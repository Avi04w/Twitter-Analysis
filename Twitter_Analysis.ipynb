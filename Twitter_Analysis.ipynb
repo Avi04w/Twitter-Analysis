{
  "nbformat": 4,
  "nbformat_minor": 0,
  "metadata": {
    "colab": {
      "provenance": [],
      "toc_visible": true,
      "include_colab_link": true
    },
    "kernelspec": {
      "name": "python3",
      "display_name": "Python 3"
    },
    "language_info": {
      "name": "python"
    }
  },
  "cells": [
    {
      "cell_type": "markdown",
      "metadata": {
        "id": "view-in-github",
        "colab_type": "text"
      },
      "source": [
        "<a href=\"https://colab.research.google.com/github/Avi04w/Twitter-Analysis/blob/main/Twitter_Analysis.ipynb\" target=\"_parent\"><img src=\"https://colab.research.google.com/assets/colab-badge.svg\" alt=\"Open In Colab\"/></a>"
      ]
    },
    {
      "cell_type": "markdown",
      "source": [
        "# Assignment 4"
      ],
      "metadata": {
        "id": "R2z1LzwEtuKX"
      }
    },
    {
      "cell_type": "markdown",
      "source": [
        "##Importing Libraries"
      ],
      "metadata": {
        "id": "nM4jqSG-txvz"
      }
    },
    {
      "cell_type": "code",
      "execution_count": null,
      "metadata": {
        "id": "_na_vc_qtp9w"
      },
      "outputs": [],
      "source": [
        "import pandas as pd\n",
        "import numpy as np\n",
        "import matplotlib.pyplot as plt\n",
        "import seaborn as sns\n",
        "from scipy import stats\n",
        "import statsmodels.api as sm\n",
        "import statsmodels.formula.api as smf\n",
        "\n",
        "import warnings\n",
        "warnings.filterwarnings('ignore')"
      ]
    },
    {
      "cell_type": "markdown",
      "source": [
        "# Part 1"
      ],
      "metadata": {
        "id": "yw7i025cSO5r"
      }
    },
    {
      "cell_type": "code",
      "source": [
        "!wget 'https://raw.githubusercontent.com/e1444/JSC270a4/main/covid-tweets-train.csv'\n",
        "!wget 'https://raw.githubusercontent.com/e1444/JSC270a4/main/covid-tweets-test.csv'"
      ],
      "metadata": {
        "id": "I6A984PDCtZ6",
        "outputId": "5411861f-8246-46dd-a663-185f0d713a3a",
        "colab": {
          "base_uri": "https://localhost:8080/"
        }
      },
      "execution_count": 1,
      "outputs": [
        {
          "output_type": "stream",
          "name": "stdout",
          "text": [
            "--2024-07-20 19:55:31--  https://raw.githubusercontent.com/e1444/JSC270a4/main/covid-tweets-train.csv\n",
            "Resolving raw.githubusercontent.com (raw.githubusercontent.com)... 185.199.109.133, 185.199.110.133, 185.199.108.133, ...\n",
            "Connecting to raw.githubusercontent.com (raw.githubusercontent.com)|185.199.109.133|:443... connected.\n",
            "HTTP request sent, awaiting response... 200 OK\n",
            "Length: 8991364 (8.6M) [text/plain]\n",
            "Saving to: ‘covid-tweets-train.csv’\n",
            "\n",
            "covid-tweets-train. 100%[===================>]   8.57M  --.-KB/s    in 0.1s    \n",
            "\n",
            "2024-07-20 19:55:31 (61.8 MB/s) - ‘covid-tweets-train.csv’ saved [8991364/8991364]\n",
            "\n",
            "--2024-07-20 19:55:31--  https://raw.githubusercontent.com/e1444/JSC270a4/main/covid-tweets-test.csv\n",
            "Resolving raw.githubusercontent.com (raw.githubusercontent.com)... 185.199.110.133, 185.199.108.133, 185.199.111.133, ...\n",
            "Connecting to raw.githubusercontent.com (raw.githubusercontent.com)|185.199.110.133|:443... connected.\n",
            "HTTP request sent, awaiting response... 200 OK\n",
            "Length: 866735 (846K) [text/plain]\n",
            "Saving to: ‘covid-tweets-test.csv’\n",
            "\n",
            "covid-tweets-test.c 100%[===================>] 846.42K  --.-KB/s    in 0.06s   \n",
            "\n",
            "2024-07-20 19:55:32 (14.2 MB/s) - ‘covid-tweets-test.csv’ saved [866735/866735]\n",
            "\n"
          ]
        }
      ]
    },
    {
      "cell_type": "code",
      "source": [
        "import pandas as pd\n",
        "train = pd.read_csv(r\"/content/covid-tweets-train.csv\")\n",
        "test = pd.read_csv(r\"/content/covid-tweets-test.csv\")\n",
        "train.head()"
      ],
      "metadata": {
        "id": "QShRV-_ifEgi",
        "outputId": "7c449181-cbab-45f1-84a1-a4834f2ff463",
        "colab": {
          "base_uri": "https://localhost:8080/",
          "height": 206
        }
      },
      "execution_count": 2,
      "outputs": [
        {
          "output_type": "execute_result",
          "data": {
            "text/plain": [
              "   Unnamed: 0                                      OriginalTweet Sentiment\n",
              "0           0  @MeNyrbie @Phil_Gahan @Chrisitv https://t.co/i...         1\n",
              "1           1  advice Talk to your neighbours family to excha...         2\n",
              "2           2  Coronavirus Australia: Woolworths to give elde...         2\n",
              "3           3  My food stock is not the only one which is emp...         2\n",
              "4           4  Me, ready to go at supermarket during the #COV...         0"
            ],
            "text/html": [
              "\n",
              "  <div id=\"df-01af2b0f-d4b0-4425-a762-da57bfa727d5\" class=\"colab-df-container\">\n",
              "    <div>\n",
              "<style scoped>\n",
              "    .dataframe tbody tr th:only-of-type {\n",
              "        vertical-align: middle;\n",
              "    }\n",
              "\n",
              "    .dataframe tbody tr th {\n",
              "        vertical-align: top;\n",
              "    }\n",
              "\n",
              "    .dataframe thead th {\n",
              "        text-align: right;\n",
              "    }\n",
              "</style>\n",
              "<table border=\"1\" class=\"dataframe\">\n",
              "  <thead>\n",
              "    <tr style=\"text-align: right;\">\n",
              "      <th></th>\n",
              "      <th>Unnamed: 0</th>\n",
              "      <th>OriginalTweet</th>\n",
              "      <th>Sentiment</th>\n",
              "    </tr>\n",
              "  </thead>\n",
              "  <tbody>\n",
              "    <tr>\n",
              "      <th>0</th>\n",
              "      <td>0</td>\n",
              "      <td>@MeNyrbie @Phil_Gahan @Chrisitv https://t.co/i...</td>\n",
              "      <td>1</td>\n",
              "    </tr>\n",
              "    <tr>\n",
              "      <th>1</th>\n",
              "      <td>1</td>\n",
              "      <td>advice Talk to your neighbours family to excha...</td>\n",
              "      <td>2</td>\n",
              "    </tr>\n",
              "    <tr>\n",
              "      <th>2</th>\n",
              "      <td>2</td>\n",
              "      <td>Coronavirus Australia: Woolworths to give elde...</td>\n",
              "      <td>2</td>\n",
              "    </tr>\n",
              "    <tr>\n",
              "      <th>3</th>\n",
              "      <td>3</td>\n",
              "      <td>My food stock is not the only one which is emp...</td>\n",
              "      <td>2</td>\n",
              "    </tr>\n",
              "    <tr>\n",
              "      <th>4</th>\n",
              "      <td>4</td>\n",
              "      <td>Me, ready to go at supermarket during the #COV...</td>\n",
              "      <td>0</td>\n",
              "    </tr>\n",
              "  </tbody>\n",
              "</table>\n",
              "</div>\n",
              "    <div class=\"colab-df-buttons\">\n",
              "\n",
              "  <div class=\"colab-df-container\">\n",
              "    <button class=\"colab-df-convert\" onclick=\"convertToInteractive('df-01af2b0f-d4b0-4425-a762-da57bfa727d5')\"\n",
              "            title=\"Convert this dataframe to an interactive table.\"\n",
              "            style=\"display:none;\">\n",
              "\n",
              "  <svg xmlns=\"http://www.w3.org/2000/svg\" height=\"24px\" viewBox=\"0 -960 960 960\">\n",
              "    <path d=\"M120-120v-720h720v720H120Zm60-500h600v-160H180v160Zm220 220h160v-160H400v160Zm0 220h160v-160H400v160ZM180-400h160v-160H180v160Zm440 0h160v-160H620v160ZM180-180h160v-160H180v160Zm440 0h160v-160H620v160Z\"/>\n",
              "  </svg>\n",
              "    </button>\n",
              "\n",
              "  <style>\n",
              "    .colab-df-container {\n",
              "      display:flex;\n",
              "      gap: 12px;\n",
              "    }\n",
              "\n",
              "    .colab-df-convert {\n",
              "      background-color: #E8F0FE;\n",
              "      border: none;\n",
              "      border-radius: 50%;\n",
              "      cursor: pointer;\n",
              "      display: none;\n",
              "      fill: #1967D2;\n",
              "      height: 32px;\n",
              "      padding: 0 0 0 0;\n",
              "      width: 32px;\n",
              "    }\n",
              "\n",
              "    .colab-df-convert:hover {\n",
              "      background-color: #E2EBFA;\n",
              "      box-shadow: 0px 1px 2px rgba(60, 64, 67, 0.3), 0px 1px 3px 1px rgba(60, 64, 67, 0.15);\n",
              "      fill: #174EA6;\n",
              "    }\n",
              "\n",
              "    .colab-df-buttons div {\n",
              "      margin-bottom: 4px;\n",
              "    }\n",
              "\n",
              "    [theme=dark] .colab-df-convert {\n",
              "      background-color: #3B4455;\n",
              "      fill: #D2E3FC;\n",
              "    }\n",
              "\n",
              "    [theme=dark] .colab-df-convert:hover {\n",
              "      background-color: #434B5C;\n",
              "      box-shadow: 0px 1px 3px 1px rgba(0, 0, 0, 0.15);\n",
              "      filter: drop-shadow(0px 1px 2px rgba(0, 0, 0, 0.3));\n",
              "      fill: #FFFFFF;\n",
              "    }\n",
              "  </style>\n",
              "\n",
              "    <script>\n",
              "      const buttonEl =\n",
              "        document.querySelector('#df-01af2b0f-d4b0-4425-a762-da57bfa727d5 button.colab-df-convert');\n",
              "      buttonEl.style.display =\n",
              "        google.colab.kernel.accessAllowed ? 'block' : 'none';\n",
              "\n",
              "      async function convertToInteractive(key) {\n",
              "        const element = document.querySelector('#df-01af2b0f-d4b0-4425-a762-da57bfa727d5');\n",
              "        const dataTable =\n",
              "          await google.colab.kernel.invokeFunction('convertToInteractive',\n",
              "                                                    [key], {});\n",
              "        if (!dataTable) return;\n",
              "\n",
              "        const docLinkHtml = 'Like what you see? Visit the ' +\n",
              "          '<a target=\"_blank\" href=https://colab.research.google.com/notebooks/data_table.ipynb>data table notebook</a>'\n",
              "          + ' to learn more about interactive tables.';\n",
              "        element.innerHTML = '';\n",
              "        dataTable['output_type'] = 'display_data';\n",
              "        await google.colab.output.renderOutput(dataTable, element);\n",
              "        const docLink = document.createElement('div');\n",
              "        docLink.innerHTML = docLinkHtml;\n",
              "        element.appendChild(docLink);\n",
              "      }\n",
              "    </script>\n",
              "  </div>\n",
              "\n",
              "\n",
              "<div id=\"df-0c00c617-53b5-4088-be4c-63a6bf109499\">\n",
              "  <button class=\"colab-df-quickchart\" onclick=\"quickchart('df-0c00c617-53b5-4088-be4c-63a6bf109499')\"\n",
              "            title=\"Suggest charts\"\n",
              "            style=\"display:none;\">\n",
              "\n",
              "<svg xmlns=\"http://www.w3.org/2000/svg\" height=\"24px\"viewBox=\"0 0 24 24\"\n",
              "     width=\"24px\">\n",
              "    <g>\n",
              "        <path d=\"M19 3H5c-1.1 0-2 .9-2 2v14c0 1.1.9 2 2 2h14c1.1 0 2-.9 2-2V5c0-1.1-.9-2-2-2zM9 17H7v-7h2v7zm4 0h-2V7h2v10zm4 0h-2v-4h2v4z\"/>\n",
              "    </g>\n",
              "</svg>\n",
              "  </button>\n",
              "\n",
              "<style>\n",
              "  .colab-df-quickchart {\n",
              "      --bg-color: #E8F0FE;\n",
              "      --fill-color: #1967D2;\n",
              "      --hover-bg-color: #E2EBFA;\n",
              "      --hover-fill-color: #174EA6;\n",
              "      --disabled-fill-color: #AAA;\n",
              "      --disabled-bg-color: #DDD;\n",
              "  }\n",
              "\n",
              "  [theme=dark] .colab-df-quickchart {\n",
              "      --bg-color: #3B4455;\n",
              "      --fill-color: #D2E3FC;\n",
              "      --hover-bg-color: #434B5C;\n",
              "      --hover-fill-color: #FFFFFF;\n",
              "      --disabled-bg-color: #3B4455;\n",
              "      --disabled-fill-color: #666;\n",
              "  }\n",
              "\n",
              "  .colab-df-quickchart {\n",
              "    background-color: var(--bg-color);\n",
              "    border: none;\n",
              "    border-radius: 50%;\n",
              "    cursor: pointer;\n",
              "    display: none;\n",
              "    fill: var(--fill-color);\n",
              "    height: 32px;\n",
              "    padding: 0;\n",
              "    width: 32px;\n",
              "  }\n",
              "\n",
              "  .colab-df-quickchart:hover {\n",
              "    background-color: var(--hover-bg-color);\n",
              "    box-shadow: 0 1px 2px rgba(60, 64, 67, 0.3), 0 1px 3px 1px rgba(60, 64, 67, 0.15);\n",
              "    fill: var(--button-hover-fill-color);\n",
              "  }\n",
              "\n",
              "  .colab-df-quickchart-complete:disabled,\n",
              "  .colab-df-quickchart-complete:disabled:hover {\n",
              "    background-color: var(--disabled-bg-color);\n",
              "    fill: var(--disabled-fill-color);\n",
              "    box-shadow: none;\n",
              "  }\n",
              "\n",
              "  .colab-df-spinner {\n",
              "    border: 2px solid var(--fill-color);\n",
              "    border-color: transparent;\n",
              "    border-bottom-color: var(--fill-color);\n",
              "    animation:\n",
              "      spin 1s steps(1) infinite;\n",
              "  }\n",
              "\n",
              "  @keyframes spin {\n",
              "    0% {\n",
              "      border-color: transparent;\n",
              "      border-bottom-color: var(--fill-color);\n",
              "      border-left-color: var(--fill-color);\n",
              "    }\n",
              "    20% {\n",
              "      border-color: transparent;\n",
              "      border-left-color: var(--fill-color);\n",
              "      border-top-color: var(--fill-color);\n",
              "    }\n",
              "    30% {\n",
              "      border-color: transparent;\n",
              "      border-left-color: var(--fill-color);\n",
              "      border-top-color: var(--fill-color);\n",
              "      border-right-color: var(--fill-color);\n",
              "    }\n",
              "    40% {\n",
              "      border-color: transparent;\n",
              "      border-right-color: var(--fill-color);\n",
              "      border-top-color: var(--fill-color);\n",
              "    }\n",
              "    60% {\n",
              "      border-color: transparent;\n",
              "      border-right-color: var(--fill-color);\n",
              "    }\n",
              "    80% {\n",
              "      border-color: transparent;\n",
              "      border-right-color: var(--fill-color);\n",
              "      border-bottom-color: var(--fill-color);\n",
              "    }\n",
              "    90% {\n",
              "      border-color: transparent;\n",
              "      border-bottom-color: var(--fill-color);\n",
              "    }\n",
              "  }\n",
              "</style>\n",
              "\n",
              "  <script>\n",
              "    async function quickchart(key) {\n",
              "      const quickchartButtonEl =\n",
              "        document.querySelector('#' + key + ' button');\n",
              "      quickchartButtonEl.disabled = true;  // To prevent multiple clicks.\n",
              "      quickchartButtonEl.classList.add('colab-df-spinner');\n",
              "      try {\n",
              "        const charts = await google.colab.kernel.invokeFunction(\n",
              "            'suggestCharts', [key], {});\n",
              "      } catch (error) {\n",
              "        console.error('Error during call to suggestCharts:', error);\n",
              "      }\n",
              "      quickchartButtonEl.classList.remove('colab-df-spinner');\n",
              "      quickchartButtonEl.classList.add('colab-df-quickchart-complete');\n",
              "    }\n",
              "    (() => {\n",
              "      let quickchartButtonEl =\n",
              "        document.querySelector('#df-0c00c617-53b5-4088-be4c-63a6bf109499 button');\n",
              "      quickchartButtonEl.style.display =\n",
              "        google.colab.kernel.accessAllowed ? 'block' : 'none';\n",
              "    })();\n",
              "  </script>\n",
              "</div>\n",
              "\n",
              "    </div>\n",
              "  </div>\n"
            ],
            "application/vnd.google.colaboratory.intrinsic+json": {
              "type": "dataframe",
              "variable_name": "train",
              "summary": "{\n  \"name\": \"train\",\n  \"rows\": 41155,\n  \"fields\": [\n    {\n      \"column\": \"Unnamed: 0\",\n      \"properties\": {\n        \"dtype\": \"number\",\n        \"std\": 11880,\n        \"min\": 0,\n        \"max\": 41154,\n        \"num_unique_values\": 41155,\n        \"samples\": [\n          14623,\n          23458,\n          8170\n        ],\n        \"semantic_type\": \"\",\n        \"description\": \"\"\n      }\n    },\n    {\n      \"column\": \"OriginalTweet\",\n      \"properties\": {\n        \"dtype\": \"string\",\n        \"num_unique_values\": 41155,\n        \"samples\": [\n          \"So panic buying of soaps and toilet roll was bad enough, now the idiots are stockpiling alcohol ? whats wrong with people #CoronaVirus #StopPanicBuying #Covid_19\",\n          \"Talked to the excellent about about transmission risk at the supermarket As usual good hand hygiene avoid crowds and physical distancing are the way to go\",\n          \"\\\"Saudi Arabia is bracing for an economic downturn as oil prices plummet due to the #coronavirus pandemic\\\" https://t.co/PQ3eRX9euZ\"\n        ],\n        \"semantic_type\": \"\",\n        \"description\": \"\"\n      }\n    },\n    {\n      \"column\": \"Sentiment\",\n      \"properties\": {\n        \"dtype\": \"category\",\n        \"num_unique_values\": 5,\n        \"samples\": [\n          \"2\",\n          \" England\\\"\",\n          \"0\"\n        ],\n        \"semantic_type\": \"\",\n        \"description\": \"\"\n      }\n    }\n  ]\n}"
            }
          },
          "metadata": {},
          "execution_count": 2
        }
      ]
    },
    {
      "cell_type": "code",
      "source": [
        "# merge train and test data\n",
        "train['dataset'] = 'train'\n",
        "test['dataset'] = 'test'\n",
        "\n",
        "# Concatenate train and test data\n",
        "data = pd.concat([train, test], ignore_index=True)\n",
        "data.head()"
      ],
      "metadata": {
        "id": "hALyS-b24med",
        "outputId": "4ed20e11-9205-4741-88c7-4c9c43c2c117",
        "colab": {
          "base_uri": "https://localhost:8080/",
          "height": 206
        }
      },
      "execution_count": 3,
      "outputs": [
        {
          "output_type": "execute_result",
          "data": {
            "text/plain": [
              "   Unnamed: 0                                      OriginalTweet Sentiment  \\\n",
              "0           0  @MeNyrbie @Phil_Gahan @Chrisitv https://t.co/i...         1   \n",
              "1           1  advice Talk to your neighbours family to excha...         2   \n",
              "2           2  Coronavirus Australia: Woolworths to give elde...         2   \n",
              "3           3  My food stock is not the only one which is emp...         2   \n",
              "4           4  Me, ready to go at supermarket during the #COV...         0   \n",
              "\n",
              "  dataset  \n",
              "0   train  \n",
              "1   train  \n",
              "2   train  \n",
              "3   train  \n",
              "4   train  "
            ],
            "text/html": [
              "\n",
              "  <div id=\"df-99f4cc90-c071-4fd2-936a-a7c0ccc0b9b6\" class=\"colab-df-container\">\n",
              "    <div>\n",
              "<style scoped>\n",
              "    .dataframe tbody tr th:only-of-type {\n",
              "        vertical-align: middle;\n",
              "    }\n",
              "\n",
              "    .dataframe tbody tr th {\n",
              "        vertical-align: top;\n",
              "    }\n",
              "\n",
              "    .dataframe thead th {\n",
              "        text-align: right;\n",
              "    }\n",
              "</style>\n",
              "<table border=\"1\" class=\"dataframe\">\n",
              "  <thead>\n",
              "    <tr style=\"text-align: right;\">\n",
              "      <th></th>\n",
              "      <th>Unnamed: 0</th>\n",
              "      <th>OriginalTweet</th>\n",
              "      <th>Sentiment</th>\n",
              "      <th>dataset</th>\n",
              "    </tr>\n",
              "  </thead>\n",
              "  <tbody>\n",
              "    <tr>\n",
              "      <th>0</th>\n",
              "      <td>0</td>\n",
              "      <td>@MeNyrbie @Phil_Gahan @Chrisitv https://t.co/i...</td>\n",
              "      <td>1</td>\n",
              "      <td>train</td>\n",
              "    </tr>\n",
              "    <tr>\n",
              "      <th>1</th>\n",
              "      <td>1</td>\n",
              "      <td>advice Talk to your neighbours family to excha...</td>\n",
              "      <td>2</td>\n",
              "      <td>train</td>\n",
              "    </tr>\n",
              "    <tr>\n",
              "      <th>2</th>\n",
              "      <td>2</td>\n",
              "      <td>Coronavirus Australia: Woolworths to give elde...</td>\n",
              "      <td>2</td>\n",
              "      <td>train</td>\n",
              "    </tr>\n",
              "    <tr>\n",
              "      <th>3</th>\n",
              "      <td>3</td>\n",
              "      <td>My food stock is not the only one which is emp...</td>\n",
              "      <td>2</td>\n",
              "      <td>train</td>\n",
              "    </tr>\n",
              "    <tr>\n",
              "      <th>4</th>\n",
              "      <td>4</td>\n",
              "      <td>Me, ready to go at supermarket during the #COV...</td>\n",
              "      <td>0</td>\n",
              "      <td>train</td>\n",
              "    </tr>\n",
              "  </tbody>\n",
              "</table>\n",
              "</div>\n",
              "    <div class=\"colab-df-buttons\">\n",
              "\n",
              "  <div class=\"colab-df-container\">\n",
              "    <button class=\"colab-df-convert\" onclick=\"convertToInteractive('df-99f4cc90-c071-4fd2-936a-a7c0ccc0b9b6')\"\n",
              "            title=\"Convert this dataframe to an interactive table.\"\n",
              "            style=\"display:none;\">\n",
              "\n",
              "  <svg xmlns=\"http://www.w3.org/2000/svg\" height=\"24px\" viewBox=\"0 -960 960 960\">\n",
              "    <path d=\"M120-120v-720h720v720H120Zm60-500h600v-160H180v160Zm220 220h160v-160H400v160Zm0 220h160v-160H400v160ZM180-400h160v-160H180v160Zm440 0h160v-160H620v160ZM180-180h160v-160H180v160Zm440 0h160v-160H620v160Z\"/>\n",
              "  </svg>\n",
              "    </button>\n",
              "\n",
              "  <style>\n",
              "    .colab-df-container {\n",
              "      display:flex;\n",
              "      gap: 12px;\n",
              "    }\n",
              "\n",
              "    .colab-df-convert {\n",
              "      background-color: #E8F0FE;\n",
              "      border: none;\n",
              "      border-radius: 50%;\n",
              "      cursor: pointer;\n",
              "      display: none;\n",
              "      fill: #1967D2;\n",
              "      height: 32px;\n",
              "      padding: 0 0 0 0;\n",
              "      width: 32px;\n",
              "    }\n",
              "\n",
              "    .colab-df-convert:hover {\n",
              "      background-color: #E2EBFA;\n",
              "      box-shadow: 0px 1px 2px rgba(60, 64, 67, 0.3), 0px 1px 3px 1px rgba(60, 64, 67, 0.15);\n",
              "      fill: #174EA6;\n",
              "    }\n",
              "\n",
              "    .colab-df-buttons div {\n",
              "      margin-bottom: 4px;\n",
              "    }\n",
              "\n",
              "    [theme=dark] .colab-df-convert {\n",
              "      background-color: #3B4455;\n",
              "      fill: #D2E3FC;\n",
              "    }\n",
              "\n",
              "    [theme=dark] .colab-df-convert:hover {\n",
              "      background-color: #434B5C;\n",
              "      box-shadow: 0px 1px 3px 1px rgba(0, 0, 0, 0.15);\n",
              "      filter: drop-shadow(0px 1px 2px rgba(0, 0, 0, 0.3));\n",
              "      fill: #FFFFFF;\n",
              "    }\n",
              "  </style>\n",
              "\n",
              "    <script>\n",
              "      const buttonEl =\n",
              "        document.querySelector('#df-99f4cc90-c071-4fd2-936a-a7c0ccc0b9b6 button.colab-df-convert');\n",
              "      buttonEl.style.display =\n",
              "        google.colab.kernel.accessAllowed ? 'block' : 'none';\n",
              "\n",
              "      async function convertToInteractive(key) {\n",
              "        const element = document.querySelector('#df-99f4cc90-c071-4fd2-936a-a7c0ccc0b9b6');\n",
              "        const dataTable =\n",
              "          await google.colab.kernel.invokeFunction('convertToInteractive',\n",
              "                                                    [key], {});\n",
              "        if (!dataTable) return;\n",
              "\n",
              "        const docLinkHtml = 'Like what you see? Visit the ' +\n",
              "          '<a target=\"_blank\" href=https://colab.research.google.com/notebooks/data_table.ipynb>data table notebook</a>'\n",
              "          + ' to learn more about interactive tables.';\n",
              "        element.innerHTML = '';\n",
              "        dataTable['output_type'] = 'display_data';\n",
              "        await google.colab.output.renderOutput(dataTable, element);\n",
              "        const docLink = document.createElement('div');\n",
              "        docLink.innerHTML = docLinkHtml;\n",
              "        element.appendChild(docLink);\n",
              "      }\n",
              "    </script>\n",
              "  </div>\n",
              "\n",
              "\n",
              "<div id=\"df-251ac045-0474-4b05-bbd0-0c139f5eeef4\">\n",
              "  <button class=\"colab-df-quickchart\" onclick=\"quickchart('df-251ac045-0474-4b05-bbd0-0c139f5eeef4')\"\n",
              "            title=\"Suggest charts\"\n",
              "            style=\"display:none;\">\n",
              "\n",
              "<svg xmlns=\"http://www.w3.org/2000/svg\" height=\"24px\"viewBox=\"0 0 24 24\"\n",
              "     width=\"24px\">\n",
              "    <g>\n",
              "        <path d=\"M19 3H5c-1.1 0-2 .9-2 2v14c0 1.1.9 2 2 2h14c1.1 0 2-.9 2-2V5c0-1.1-.9-2-2-2zM9 17H7v-7h2v7zm4 0h-2V7h2v10zm4 0h-2v-4h2v4z\"/>\n",
              "    </g>\n",
              "</svg>\n",
              "  </button>\n",
              "\n",
              "<style>\n",
              "  .colab-df-quickchart {\n",
              "      --bg-color: #E8F0FE;\n",
              "      --fill-color: #1967D2;\n",
              "      --hover-bg-color: #E2EBFA;\n",
              "      --hover-fill-color: #174EA6;\n",
              "      --disabled-fill-color: #AAA;\n",
              "      --disabled-bg-color: #DDD;\n",
              "  }\n",
              "\n",
              "  [theme=dark] .colab-df-quickchart {\n",
              "      --bg-color: #3B4455;\n",
              "      --fill-color: #D2E3FC;\n",
              "      --hover-bg-color: #434B5C;\n",
              "      --hover-fill-color: #FFFFFF;\n",
              "      --disabled-bg-color: #3B4455;\n",
              "      --disabled-fill-color: #666;\n",
              "  }\n",
              "\n",
              "  .colab-df-quickchart {\n",
              "    background-color: var(--bg-color);\n",
              "    border: none;\n",
              "    border-radius: 50%;\n",
              "    cursor: pointer;\n",
              "    display: none;\n",
              "    fill: var(--fill-color);\n",
              "    height: 32px;\n",
              "    padding: 0;\n",
              "    width: 32px;\n",
              "  }\n",
              "\n",
              "  .colab-df-quickchart:hover {\n",
              "    background-color: var(--hover-bg-color);\n",
              "    box-shadow: 0 1px 2px rgba(60, 64, 67, 0.3), 0 1px 3px 1px rgba(60, 64, 67, 0.15);\n",
              "    fill: var(--button-hover-fill-color);\n",
              "  }\n",
              "\n",
              "  .colab-df-quickchart-complete:disabled,\n",
              "  .colab-df-quickchart-complete:disabled:hover {\n",
              "    background-color: var(--disabled-bg-color);\n",
              "    fill: var(--disabled-fill-color);\n",
              "    box-shadow: none;\n",
              "  }\n",
              "\n",
              "  .colab-df-spinner {\n",
              "    border: 2px solid var(--fill-color);\n",
              "    border-color: transparent;\n",
              "    border-bottom-color: var(--fill-color);\n",
              "    animation:\n",
              "      spin 1s steps(1) infinite;\n",
              "  }\n",
              "\n",
              "  @keyframes spin {\n",
              "    0% {\n",
              "      border-color: transparent;\n",
              "      border-bottom-color: var(--fill-color);\n",
              "      border-left-color: var(--fill-color);\n",
              "    }\n",
              "    20% {\n",
              "      border-color: transparent;\n",
              "      border-left-color: var(--fill-color);\n",
              "      border-top-color: var(--fill-color);\n",
              "    }\n",
              "    30% {\n",
              "      border-color: transparent;\n",
              "      border-left-color: var(--fill-color);\n",
              "      border-top-color: var(--fill-color);\n",
              "      border-right-color: var(--fill-color);\n",
              "    }\n",
              "    40% {\n",
              "      border-color: transparent;\n",
              "      border-right-color: var(--fill-color);\n",
              "      border-top-color: var(--fill-color);\n",
              "    }\n",
              "    60% {\n",
              "      border-color: transparent;\n",
              "      border-right-color: var(--fill-color);\n",
              "    }\n",
              "    80% {\n",
              "      border-color: transparent;\n",
              "      border-right-color: var(--fill-color);\n",
              "      border-bottom-color: var(--fill-color);\n",
              "    }\n",
              "    90% {\n",
              "      border-color: transparent;\n",
              "      border-bottom-color: var(--fill-color);\n",
              "    }\n",
              "  }\n",
              "</style>\n",
              "\n",
              "  <script>\n",
              "    async function quickchart(key) {\n",
              "      const quickchartButtonEl =\n",
              "        document.querySelector('#' + key + ' button');\n",
              "      quickchartButtonEl.disabled = true;  // To prevent multiple clicks.\n",
              "      quickchartButtonEl.classList.add('colab-df-spinner');\n",
              "      try {\n",
              "        const charts = await google.colab.kernel.invokeFunction(\n",
              "            'suggestCharts', [key], {});\n",
              "      } catch (error) {\n",
              "        console.error('Error during call to suggestCharts:', error);\n",
              "      }\n",
              "      quickchartButtonEl.classList.remove('colab-df-spinner');\n",
              "      quickchartButtonEl.classList.add('colab-df-quickchart-complete');\n",
              "    }\n",
              "    (() => {\n",
              "      let quickchartButtonEl =\n",
              "        document.querySelector('#df-251ac045-0474-4b05-bbd0-0c139f5eeef4 button');\n",
              "      quickchartButtonEl.style.display =\n",
              "        google.colab.kernel.accessAllowed ? 'block' : 'none';\n",
              "    })();\n",
              "  </script>\n",
              "</div>\n",
              "\n",
              "    </div>\n",
              "  </div>\n"
            ],
            "application/vnd.google.colaboratory.intrinsic+json": {
              "type": "dataframe",
              "variable_name": "data",
              "summary": "{\n  \"name\": \"data\",\n  \"rows\": 44953,\n  \"fields\": [\n    {\n      \"column\": \"Unnamed: 0\",\n      \"properties\": {\n        \"dtype\": \"number\",\n        \"std\": 12502,\n        \"min\": 0,\n        \"max\": 41154,\n        \"num_unique_values\": 41155,\n        \"samples\": [\n          14623,\n          23458,\n          8170\n        ],\n        \"semantic_type\": \"\",\n        \"description\": \"\"\n      }\n    },\n    {\n      \"column\": \"OriginalTweet\",\n      \"properties\": {\n        \"dtype\": \"string\",\n        \"num_unique_values\": 44953,\n        \"samples\": [\n          \"Here is a helpful article from @WhichUK on how to shop safely at the weekend. Such precautions are particularly important coming up to the Easter weekend, when shops may be busier.\\r\\r\\n\\r\\r\\n\\r\\r\\n\\r\\r\\n#Easter #EasterAtHome #coronavirus \\r\\r\\n\\r\\r\\n\\r\\r\\n\\r\\r\\nhttps://t.co/yVyFqS5tin\",\n          \"COME ONE COME ALL TO for are huge floor model blow out sale We have all the best brands at all the best prices DONT MISS OUT Come get your better sleep today 19\",\n          \"https://t.co/a3md87Yyt3 The #Coronavirus discourse is dominated by medical/scientific voices, with their typical ignorance of societal welfare and public justification in decision-making. Unlike Corona, having no food will definitely kill you.\"\n        ],\n        \"semantic_type\": \"\",\n        \"description\": \"\"\n      }\n    },\n    {\n      \"column\": \"Sentiment\",\n      \"properties\": {\n        \"dtype\": \"category\",\n        \"num_unique_values\": 8,\n        \"samples\": [\n          \"2\",\n          0,\n          \"1\"\n        ],\n        \"semantic_type\": \"\",\n        \"description\": \"\"\n      }\n    },\n    {\n      \"column\": \"dataset\",\n      \"properties\": {\n        \"dtype\": \"category\",\n        \"num_unique_values\": 2,\n        \"samples\": [\n          \"test\",\n          \"train\"\n        ],\n        \"semantic_type\": \"\",\n        \"description\": \"\"\n      }\n    }\n  ]\n}"
            }
          },
          "metadata": {},
          "execution_count": 3
        }
      ]
    },
    {
      "cell_type": "code",
      "source": [
        "data.loc[data.dataset == 'train', 'Sentiment'].value_counts()"
      ],
      "metadata": {
        "id": "-QdeXfHXhEMX",
        "outputId": "f451704b-1761-4ac7-cff1-4059292213a2",
        "colab": {
          "base_uri": "https://localhost:8080/"
        }
      },
      "execution_count": 4,
      "outputs": [
        {
          "output_type": "execute_result",
          "data": {
            "text/plain": [
              "Sentiment\n",
              "2            18042\n",
              "0            15397\n",
              "1             7712\n",
              " PA\"             1\n",
              " England\"        1\n",
              "Name: count, dtype: int64"
            ]
          },
          "metadata": {},
          "execution_count": 4
        }
      ]
    },
    {
      "cell_type": "code",
      "source": [
        "# sentiment distribution\n",
        "data['Sentiment'] = pd.to_numeric(data['Sentiment'], errors='coerce')\n",
        "data = data.dropna(subset=['Sentiment'])\n",
        "data.loc[data.dataset == 'train', 'Sentiment'].value_counts()"
      ],
      "metadata": {
        "id": "b_3LMJJDlGgI",
        "outputId": "e0b4efa7-f5af-4944-f1ea-32cb686c97ae",
        "colab": {
          "base_uri": "https://localhost:8080/"
        }
      },
      "execution_count": 5,
      "outputs": [
        {
          "output_type": "execute_result",
          "data": {
            "text/plain": [
              "Sentiment\n",
              "2.0    18042\n",
              "0.0    15397\n",
              "1.0     7712\n",
              "Name: count, dtype: int64"
            ]
          },
          "metadata": {},
          "execution_count": 5
        }
      ]
    },
    {
      "cell_type": "code",
      "source": [
        "import nltk\n",
        "nltk.download('punkt')\n",
        "\n",
        "data['tokens'] = data['OriginalTweet'].apply(nltk.word_tokenize)\n",
        "data['tokens'].head()"
      ],
      "metadata": {
        "id": "qafYFoDSmFPk",
        "outputId": "d9c1a524-b8e4-41a7-f786-fdfc6c525e64",
        "colab": {
          "base_uri": "https://localhost:8080/"
        }
      },
      "execution_count": null,
      "outputs": [
        {
          "output_type": "stream",
          "name": "stderr",
          "text": [
            "[nltk_data] Downloading package punkt to /root/nltk_data...\n",
            "[nltk_data]   Unzipping tokenizers/punkt.zip.\n"
          ]
        },
        {
          "output_type": "execute_result",
          "data": {
            "text/plain": [
              "0    [@, MeNyrbie, @, Phil_Gahan, @, Chrisitv, http...\n",
              "1    [advice, Talk, to, your, neighbours, family, t...\n",
              "2    [Coronavirus, Australia, :, Woolworths, to, gi...\n",
              "3    [My, food, stock, is, not, the, only, one, whi...\n",
              "4    [Me, ,, ready, to, go, at, supermarket, during...\n",
              "Name: tokens, dtype: object"
            ]
          },
          "metadata": {},
          "execution_count": 7
        }
      ]
    },
    {
      "cell_type": "code",
      "source": [
        "import re\n",
        "\n",
        "# remove links\n",
        "pattern = re.compile(r'http.*')\n",
        "data['tokens'] = data['tokens'].apply(lambda tokens: [token for token in tokens if not pattern.match(token)])\n",
        "data['tokens'].head()"
      ],
      "metadata": {
        "id": "l11W5nbemeu4",
        "outputId": "a7345f8c-123b-4c93-d9cf-22cf3600f142",
        "colab": {
          "base_uri": "https://localhost:8080/"
        }
      },
      "execution_count": null,
      "outputs": [
        {
          "output_type": "execute_result",
          "data": {
            "text/plain": [
              "0    [@, MeNyrbie, @, Phil_Gahan, @, Chrisitv, :, /...\n",
              "1    [advice, Talk, to, your, neighbours, family, t...\n",
              "2    [Coronavirus, Australia, :, Woolworths, to, gi...\n",
              "3    [My, food, stock, is, not, the, only, one, whi...\n",
              "4    [Me, ,, ready, to, go, at, supermarket, during...\n",
              "Name: tokens, dtype: object"
            ]
          },
          "metadata": {},
          "execution_count": 8
        }
      ]
    },
    {
      "cell_type": "code",
      "source": [
        "# convert to lowercase\n",
        "data['tokens'] = data['tokens'].apply(lambda tokens : [token.lower() for token in tokens])\n",
        "data['tokens'].head()"
      ],
      "metadata": {
        "id": "jJsPazU7ugfs",
        "outputId": "73ef7ee2-7b4b-4e83-895a-3a537bd85483",
        "colab": {
          "base_uri": "https://localhost:8080/"
        }
      },
      "execution_count": null,
      "outputs": [
        {
          "output_type": "execute_result",
          "data": {
            "text/plain": [
              "0    [@, menyrbie, @, phil_gahan, @, chrisitv, :, /...\n",
              "1    [advice, talk, to, your, neighbours, family, t...\n",
              "2    [coronavirus, australia, :, woolworths, to, gi...\n",
              "3    [my, food, stock, is, not, the, only, one, whi...\n",
              "4    [me, ,, ready, to, go, at, supermarket, during...\n",
              "Name: tokens, dtype: object"
            ]
          },
          "metadata": {},
          "execution_count": 9
        }
      ]
    },
    {
      "cell_type": "code",
      "source": [
        "# remove special characters\n",
        "pattern = re.compile(r'[^\\w\\s]')\n",
        "data['tokens'] = data['tokens'].apply(lambda tokens : [re.sub(pattern, '', token) for token in tokens])\n",
        "data['tokens'].head()"
      ],
      "metadata": {
        "id": "y6Y276JjuoqL",
        "outputId": "c514086b-52c8-4bf2-9848-cc664a0fafab",
        "colab": {
          "base_uri": "https://localhost:8080/"
        }
      },
      "execution_count": null,
      "outputs": [
        {
          "output_type": "execute_result",
          "data": {
            "text/plain": [
              "0    [, menyrbie, , phil_gahan, , chrisitv, , tcoif...\n",
              "1    [advice, talk, to, your, neighbours, family, t...\n",
              "2    [coronavirus, australia, , woolworths, to, giv...\n",
              "3    [my, food, stock, is, not, the, only, one, whi...\n",
              "4    [me, , ready, to, go, at, supermarket, during,...\n",
              "Name: tokens, dtype: object"
            ]
          },
          "metadata": {},
          "execution_count": 10
        }
      ]
    },
    {
      "cell_type": "code",
      "source": [
        "# remove empty strings\n",
        "data['tokens'] = data['tokens'].apply(lambda tokens : [token for token in tokens if token])\n",
        "data['tokens'].head()"
      ],
      "metadata": {
        "id": "rcOTo4-EvWl5",
        "outputId": "83ab3a55-8b65-4316-96a9-0ef4c6cc5ba6",
        "colab": {
          "base_uri": "https://localhost:8080/"
        }
      },
      "execution_count": null,
      "outputs": [
        {
          "output_type": "execute_result",
          "data": {
            "text/plain": [
              "0    [menyrbie, phil_gahan, chrisitv, tcoifz9fan2pa...\n",
              "1    [advice, talk, to, your, neighbours, family, t...\n",
              "2    [coronavirus, australia, woolworths, to, give,...\n",
              "3    [my, food, stock, is, not, the, only, one, whi...\n",
              "4    [me, ready, to, go, at, supermarket, during, t...\n",
              "Name: tokens, dtype: object"
            ]
          },
          "metadata": {},
          "execution_count": 11
        }
      ]
    },
    {
      "cell_type": "code",
      "source": [
        "from nltk.stem.porter import *\n",
        "\n",
        "# stem\n",
        "stemmer = PorterStemmer()\n",
        "stemmed_data = data.copy()\n",
        "stemmed_data['tokens'] = stemmed_data['tokens'].apply(lambda tokens : [stemmer.stem(token) for token in tokens])\n",
        "stemmed_data['tokens'].head()"
      ],
      "metadata": {
        "id": "YYjwBzPYv1tg",
        "outputId": "3e0bd7f7-3054-48c0-c79e-07e80154a162",
        "colab": {
          "base_uri": "https://localhost:8080/"
        }
      },
      "execution_count": null,
      "outputs": [
        {
          "output_type": "execute_result",
          "data": {
            "text/plain": [
              "0    [menyrbi, phil_gahan, chrisitv, tcoifz9fan2pa,...\n",
              "1    [advic, talk, to, your, neighbour, famili, to,...\n",
              "2    [coronaviru, australia, woolworth, to, give, e...\n",
              "3    [my, food, stock, is, not, the, onli, one, whi...\n",
              "4    [me, readi, to, go, at, supermarket, dure, the...\n",
              "Name: tokens, dtype: object"
            ]
          },
          "metadata": {},
          "execution_count": 12
        }
      ]
    },
    {
      "cell_type": "code",
      "source": [
        "from nltk.corpus import stopwords\n",
        "nltk.download('stopwords')"
      ],
      "metadata": {
        "id": "gmHz7uqqwS_Y",
        "outputId": "46288aa8-e0a7-400d-f102-88c4ca7a94cb",
        "colab": {
          "base_uri": "https://localhost:8080/"
        }
      },
      "execution_count": null,
      "outputs": [
        {
          "output_type": "stream",
          "name": "stderr",
          "text": [
            "[nltk_data] Downloading package stopwords to /root/nltk_data...\n",
            "[nltk_data]   Unzipping corpora/stopwords.zip.\n"
          ]
        },
        {
          "output_type": "execute_result",
          "data": {
            "text/plain": [
              "True"
            ]
          },
          "metadata": {},
          "execution_count": 13
        }
      ]
    },
    {
      "cell_type": "code",
      "source": [
        "# remove stop words\n",
        "sw = stopwords.words('english')[:100]\n",
        "stemmed_data['tokens'] = stemmed_data['tokens'].apply(lambda tokens : [token for token in tokens if token not in sw])\n",
        "stemmed_data['tokens'].head()"
      ],
      "metadata": {
        "id": "IXfGcLmHwWd0",
        "outputId": "5ee0cdae-b452-48b0-ad58-7a888f5574ba",
        "colab": {
          "base_uri": "https://localhost:8080/"
        }
      },
      "execution_count": null,
      "outputs": [
        {
          "output_type": "execute_result",
          "data": {
            "text/plain": [
              "0    [menyrbi, phil_gahan, chrisitv, tcoifz9fan2pa,...\n",
              "1    [advic, talk, neighbour, famili, exchang, phon...\n",
              "2    [coronaviru, australia, woolworth, give, elder...\n",
              "3    [food, stock, not, onli, one, empti, pleas, nt...\n",
              "4    [readi, go, supermarket, dure, covid19, outbre...\n",
              "Name: tokens, dtype: object"
            ]
          },
          "metadata": {},
          "execution_count": 14
        }
      ]
    },
    {
      "cell_type": "code",
      "source": [
        "from sklearn.feature_extraction.text import CountVectorizer\n",
        "\n",
        "# vectorize\n",
        "train = stemmed_data[stemmed_data['dataset'] == 'train']\n",
        "X_train, y_train = train['tokens'].to_numpy(), train['Sentiment'].to_numpy()\n",
        "\n",
        "\n",
        "def override_fcn(doc):\n",
        "  # We expect a list of tokens as input\n",
        "  return doc\n",
        "\n",
        "# Count Vectorizer\n",
        "count_vec = CountVectorizer(\n",
        "    analyzer='word',\n",
        "    tokenizer= override_fcn,\n",
        "    preprocessor= override_fcn,\n",
        "    token_pattern= None)\n",
        "\n",
        "X_train = count_vec.fit_transform(X_train)"
      ],
      "metadata": {
        "id": "lXkaqm6tyOtg"
      },
      "execution_count": null,
      "outputs": []
    },
    {
      "cell_type": "code",
      "source": [
        "# vocabulary length\n",
        "len(count_vec.vocabulary_)"
      ],
      "metadata": {
        "id": "Cs0yk57AzP8R",
        "outputId": "2e1a6031-f1fd-4fbb-8f60-836e5b7f612b",
        "colab": {
          "base_uri": "https://localhost:8080/"
        }
      },
      "execution_count": null,
      "outputs": [
        {
          "output_type": "execute_result",
          "data": {
            "text/plain": [
              "74221"
            ]
          },
          "metadata": {},
          "execution_count": 16
        }
      ]
    },
    {
      "cell_type": "code",
      "source": [
        "from sklearn.naive_bayes import MultinomialNB\n",
        "from sklearn.metrics import accuracy_score, roc_curve\n",
        "import matplotlib.pyplot as plt\n",
        "\n",
        "# fit model\n",
        "nb = MultinomialNB()\n",
        "nb.fit(X_train, y_train)"
      ],
      "metadata": {
        "id": "oHv35Ra10ecG",
        "outputId": "17fc1f9e-43c5-4316-ef06-9a34d0b35582",
        "colab": {
          "base_uri": "https://localhost:8080/",
          "height": 75
        }
      },
      "execution_count": null,
      "outputs": [
        {
          "output_type": "execute_result",
          "data": {
            "text/plain": [
              "MultinomialNB()"
            ],
            "text/html": [
              "<style>#sk-container-id-1 {color: black;background-color: white;}#sk-container-id-1 pre{padding: 0;}#sk-container-id-1 div.sk-toggleable {background-color: white;}#sk-container-id-1 label.sk-toggleable__label {cursor: pointer;display: block;width: 100%;margin-bottom: 0;padding: 0.3em;box-sizing: border-box;text-align: center;}#sk-container-id-1 label.sk-toggleable__label-arrow:before {content: \"▸\";float: left;margin-right: 0.25em;color: #696969;}#sk-container-id-1 label.sk-toggleable__label-arrow:hover:before {color: black;}#sk-container-id-1 div.sk-estimator:hover label.sk-toggleable__label-arrow:before {color: black;}#sk-container-id-1 div.sk-toggleable__content {max-height: 0;max-width: 0;overflow: hidden;text-align: left;background-color: #f0f8ff;}#sk-container-id-1 div.sk-toggleable__content pre {margin: 0.2em;color: black;border-radius: 0.25em;background-color: #f0f8ff;}#sk-container-id-1 input.sk-toggleable__control:checked~div.sk-toggleable__content {max-height: 200px;max-width: 100%;overflow: auto;}#sk-container-id-1 input.sk-toggleable__control:checked~label.sk-toggleable__label-arrow:before {content: \"▾\";}#sk-container-id-1 div.sk-estimator input.sk-toggleable__control:checked~label.sk-toggleable__label {background-color: #d4ebff;}#sk-container-id-1 div.sk-label input.sk-toggleable__control:checked~label.sk-toggleable__label {background-color: #d4ebff;}#sk-container-id-1 input.sk-hidden--visually {border: 0;clip: rect(1px 1px 1px 1px);clip: rect(1px, 1px, 1px, 1px);height: 1px;margin: -1px;overflow: hidden;padding: 0;position: absolute;width: 1px;}#sk-container-id-1 div.sk-estimator {font-family: monospace;background-color: #f0f8ff;border: 1px dotted black;border-radius: 0.25em;box-sizing: border-box;margin-bottom: 0.5em;}#sk-container-id-1 div.sk-estimator:hover {background-color: #d4ebff;}#sk-container-id-1 div.sk-parallel-item::after {content: \"\";width: 100%;border-bottom: 1px solid gray;flex-grow: 1;}#sk-container-id-1 div.sk-label:hover label.sk-toggleable__label {background-color: #d4ebff;}#sk-container-id-1 div.sk-serial::before {content: \"\";position: absolute;border-left: 1px solid gray;box-sizing: border-box;top: 0;bottom: 0;left: 50%;z-index: 0;}#sk-container-id-1 div.sk-serial {display: flex;flex-direction: column;align-items: center;background-color: white;padding-right: 0.2em;padding-left: 0.2em;position: relative;}#sk-container-id-1 div.sk-item {position: relative;z-index: 1;}#sk-container-id-1 div.sk-parallel {display: flex;align-items: stretch;justify-content: center;background-color: white;position: relative;}#sk-container-id-1 div.sk-item::before, #sk-container-id-1 div.sk-parallel-item::before {content: \"\";position: absolute;border-left: 1px solid gray;box-sizing: border-box;top: 0;bottom: 0;left: 50%;z-index: -1;}#sk-container-id-1 div.sk-parallel-item {display: flex;flex-direction: column;z-index: 1;position: relative;background-color: white;}#sk-container-id-1 div.sk-parallel-item:first-child::after {align-self: flex-end;width: 50%;}#sk-container-id-1 div.sk-parallel-item:last-child::after {align-self: flex-start;width: 50%;}#sk-container-id-1 div.sk-parallel-item:only-child::after {width: 0;}#sk-container-id-1 div.sk-dashed-wrapped {border: 1px dashed gray;margin: 0 0.4em 0.5em 0.4em;box-sizing: border-box;padding-bottom: 0.4em;background-color: white;}#sk-container-id-1 div.sk-label label {font-family: monospace;font-weight: bold;display: inline-block;line-height: 1.2em;}#sk-container-id-1 div.sk-label-container {text-align: center;}#sk-container-id-1 div.sk-container {/* jupyter's `normalize.less` sets `[hidden] { display: none; }` but bootstrap.min.css set `[hidden] { display: none !important; }` so we also need the `!important` here to be able to override the default hidden behavior on the sphinx rendered scikit-learn.org. See: https://github.com/scikit-learn/scikit-learn/issues/21755 */display: inline-block !important;position: relative;}#sk-container-id-1 div.sk-text-repr-fallback {display: none;}</style><div id=\"sk-container-id-1\" class=\"sk-top-container\"><div class=\"sk-text-repr-fallback\"><pre>MultinomialNB()</pre><b>In a Jupyter environment, please rerun this cell to show the HTML representation or trust the notebook. <br />On GitHub, the HTML representation is unable to render, please try loading this page with nbviewer.org.</b></div><div class=\"sk-container\" hidden><div class=\"sk-item\"><div class=\"sk-estimator sk-toggleable\"><input class=\"sk-toggleable__control sk-hidden--visually\" id=\"sk-estimator-id-1\" type=\"checkbox\" checked><label for=\"sk-estimator-id-1\" class=\"sk-toggleable__label sk-toggleable__label-arrow\">MultinomialNB</label><div class=\"sk-toggleable__content\"><pre>MultinomialNB()</pre></div></div></div></div></div>"
            ]
          },
          "metadata": {},
          "execution_count": 17
        }
      ]
    },
    {
      "cell_type": "code",
      "source": [
        "# compute accuracies\n",
        "y_preds = nb.predict(X_train)\n",
        "\n",
        "print('Train accuracy with counts:', accuracy_score(y_train, y_preds))\n",
        "\n",
        "test = stemmed_data[stemmed_data.dataset == 'test']\n",
        "X_test, y_test = test['tokens'].to_numpy(), test['Sentiment'].to_numpy()\n",
        "\n",
        "X_test = count_vec.transform(X_test)\n",
        "y_preds = nb.predict(X_test)\n",
        "\n",
        "print('Test accuracy with counts:', accuracy_score(y_test, y_preds))"
      ],
      "metadata": {
        "id": "eq8odmDK7CJK",
        "outputId": "5ce6eb76-7887-43b9-d21e-445f638de488",
        "colab": {
          "base_uri": "https://localhost:8080/"
        }
      },
      "execution_count": null,
      "outputs": [
        {
          "output_type": "stream",
          "name": "stdout",
          "text": [
            "Train accuracy with counts: 0.8192753517532988\n",
            "Test accuracy with counts: 0.6690363349131122\n"
          ]
        }
      ]
    },
    {
      "cell_type": "code",
      "source": [
        "# Get the feature log probabilities for each class\n",
        "feature_log_prob = nb.feature_log_prob_\n",
        "feature_count = nb.feature_count_\n",
        "\n",
        "# Get the feature names from the vectorizer\n",
        "feature_names = np.array(count_vec.get_feature_names_out())\n",
        "\n",
        "# Number of top features to extract\n",
        "top_n = 5\n",
        "\n",
        "# Get the top features for each class\n",
        "for i, label in enumerate(nb.classes_):\n",
        "    print(f\"Top words for class '{label}':\")\n",
        "    top_features_idx = np.argsort(feature_log_prob[i])[::-1][:top_n]\n",
        "    top_features = feature_names[top_features_idx]\n",
        "    top_feature_counts = feature_count[i][top_features_idx]\n",
        "    for feature, count in zip(top_features, top_feature_counts):\n",
        "        print(f\"{feature}: {count}\")"
      ],
      "metadata": {
        "colab": {
          "base_uri": "https://localhost:8080/"
        },
        "id": "EvhI2IVkGbaH",
        "outputId": "19f824e8-a960-4e53-dd6e-8465233a6da6"
      },
      "execution_count": null,
      "outputs": [
        {
          "output_type": "stream",
          "name": "stdout",
          "text": [
            "Top words for class '0.0':\n",
            "coronaviru: 6737.0\n",
            "covid19: 4610.0\n",
            "price: 4347.0\n",
            "food: 3638.0\n",
            "thi: 3225.0\n",
            "Top words for class '1.0':\n",
            "coronaviru: 3812.0\n",
            "covid19: 2566.0\n",
            "store: 1588.0\n",
            "supermarket: 1441.0\n",
            "price: 1365.0\n",
            "Top words for class '2.0':\n",
            "coronaviru: 7511.0\n",
            "covid19: 5681.0\n",
            "store: 3917.0\n",
            "thi: 3781.0\n",
            "price: 3339.0\n"
          ]
        }
      ]
    },
    {
      "cell_type": "code",
      "source": [
        "from sklearn.feature_extraction.text import TfidfTransformer\n",
        "\n",
        "# fitting with TF-IDF\n",
        "train = stemmed_data[stemmed_data['dataset'] == 'train']\n",
        "test = stemmed_data[stemmed_data.dataset == 'test']\n",
        "X_train, y_train = train['tokens'].to_numpy(), train['Sentiment'].to_numpy()\n",
        "X_test, y_test = test['tokens'].to_numpy(), test['Sentiment'].to_numpy()\n",
        "\n",
        "count_vec = CountVectorizer(\n",
        "    analyzer='word',\n",
        "    tokenizer= override_fcn,\n",
        "    preprocessor= override_fcn,\n",
        "    token_pattern= None)\n",
        "\n",
        "X_train = count_vec.fit_transform(X_train)\n",
        "X_test = count_vec.transform(X_test)\n",
        "\n",
        "tfidf = TfidfTransformer()\n",
        "X_train = tfidf.fit_transform(X_train)\n",
        "X_test = tfidf.transform(X_test)\n",
        "\n",
        "nb = MultinomialNB()\n",
        "nb.fit(X_train, y_train)\n",
        "\n",
        "y_preds = nb.predict(X_train)\n",
        "print('Train accuracy with TF-IDF:', accuracy_score(y_train, y_preds))\n",
        "\n",
        "y_preds = nb.predict(X_test)\n",
        "print('Test accuracy with TF-IDF:', accuracy_score(y_test, y_preds))"
      ],
      "metadata": {
        "colab": {
          "base_uri": "https://localhost:8080/"
        },
        "id": "JBgD6MwPIHNN",
        "outputId": "4516bcc3-b012-4481-ffe2-1d0abc5d74be"
      },
      "execution_count": null,
      "outputs": [
        {
          "output_type": "stream",
          "name": "stdout",
          "text": [
            "Train accuracy with TF-IDF: 0.7250613593837331\n",
            "Test accuracy with TF-IDF: 0.624275934702475\n"
          ]
        }
      ]
    },
    {
      "cell_type": "code",
      "source": [
        "from nltk.stem import WordNetLemmatizer\n",
        "nltk.download('wordnet')"
      ],
      "metadata": {
        "colab": {
          "base_uri": "https://localhost:8080/"
        },
        "id": "93Ig8hGMJms6",
        "outputId": "e736eaae-055e-47d4-90f2-ccbb2cab419a"
      },
      "execution_count": null,
      "outputs": [
        {
          "output_type": "stream",
          "name": "stderr",
          "text": [
            "[nltk_data] Downloading package wordnet to /root/nltk_data...\n"
          ]
        },
        {
          "output_type": "execute_result",
          "data": {
            "text/plain": [
              "True"
            ]
          },
          "metadata": {},
          "execution_count": 36
        }
      ]
    },
    {
      "cell_type": "code",
      "source": [
        "# lemmatize tokens\n",
        "lemmatizer = WordNetLemmatizer()\n",
        "lemma_data = data\n",
        "lemma_data['tokens'] = lemma_data['tokens'].apply(lambda tokens : [lemmatizer.lemmatize(token) for token in tokens])\n",
        "lemma_data['tokens'].head()"
      ],
      "metadata": {
        "colab": {
          "base_uri": "https://localhost:8080/"
        },
        "id": "hBWe6f-GJx4i",
        "outputId": "ef7ac91c-380c-4b95-b0a7-886471d48c54"
      },
      "execution_count": null,
      "outputs": [
        {
          "output_type": "execute_result",
          "data": {
            "text/plain": [
              "0    [menyrbie, phil_gahan, chrisitv, tcoifz9fan2pa...\n",
              "1    [advice, talk, to, your, neighbour, family, to...\n",
              "2    [coronavirus, australia, woolworth, to, give, ...\n",
              "3    [my, food, stock, is, not, the, only, one, whi...\n",
              "4    [me, ready, to, go, at, supermarket, during, t...\n",
              "Name: tokens, dtype: object"
            ]
          },
          "metadata": {},
          "execution_count": 37
        }
      ]
    },
    {
      "cell_type": "code",
      "source": [
        "train = lemma_data[lemma_data['dataset'] == 'train']\n",
        "test = lemma_data[lemma_data.dataset == 'test']\n",
        "X_train, y_train = train['tokens'].to_numpy(), train['Sentiment'].to_numpy()\n",
        "X_test, y_test = test['tokens'].to_numpy(), test['Sentiment'].to_numpy()\n",
        "\n",
        "count_vec = CountVectorizer(\n",
        "    analyzer='word',\n",
        "    tokenizer= override_fcn,\n",
        "    preprocessor= override_fcn,\n",
        "    token_pattern= None)\n",
        "\n",
        "X_train = count_vec.fit_transform(X_train)\n",
        "X_test = count_vec.transform(X_test)\n",
        "\n",
        "tfidf = TfidfTransformer()\n",
        "X_train = tfidf.fit_transform(X_train)\n",
        "X_test = tfidf.transform(X_test)\n",
        "\n",
        "nb = MultinomialNB()\n",
        "nb.fit(X_train, y_train)\n",
        "\n",
        "y_preds = nb.predict(X_train)\n",
        "print('Train accuracy with TF-IDF:', accuracy_score(y_train, y_preds))\n",
        "\n",
        "y_preds = nb.predict(X_test)\n",
        "print('Test accuracy with simple TF-IDF:', accuracy_score(y_test, y_preds))"
      ],
      "metadata": {
        "colab": {
          "base_uri": "https://localhost:8080/"
        },
        "id": "fAPJaeTQKtVw",
        "outputId": "b927b89c-413c-47a1-fcfd-397eb3ca2aa5"
      },
      "execution_count": null,
      "outputs": [
        {
          "output_type": "stream",
          "name": "stdout",
          "text": [
            "Train accuracy with TF-IDF: 0.7226312847804428\n",
            "Test accuracy with simple TF-IDF: 0.6119010005265929\n"
          ]
        }
      ]
    },
    {
      "cell_type": "markdown",
      "source": [
        "# Part 2"
      ],
      "metadata": {
        "id": "ua03oysnCt24"
      }
    },
    {
      "cell_type": "markdown",
      "source": [
        "### Installing pyLDAvis and downgrading version of pandas because we need access to some older functions"
      ],
      "metadata": {
        "id": "uqw4JCBBBvDW"
      }
    },
    {
      "cell_type": "code",
      "source": [
        "!pip install --upgrade --upgrade-strategy only-if-needed pyLDAvis"
      ],
      "metadata": {
        "id": "emrVA7zko8xu",
        "colab": {
          "base_uri": "https://localhost:8080/"
        },
        "outputId": "1e2baab5-7501-4b99-c76e-f9b120c273cc"
      },
      "execution_count": null,
      "outputs": [
        {
          "output_type": "stream",
          "name": "stdout",
          "text": [
            "Collecting pyLDAvis\n",
            "  Downloading pyLDAvis-3.4.1-py3-none-any.whl (2.6 MB)\n",
            "\u001b[2K     \u001b[90m━━━━━━━━━━━━━━━━━━━━━━━━━━━━━━━━━━━━━━━━\u001b[0m \u001b[32m2.6/2.6 MB\u001b[0m \u001b[31m7.0 MB/s\u001b[0m eta \u001b[36m0:00:00\u001b[0m\n",
            "\u001b[?25hRequirement already satisfied: numpy>=1.24.2 in /usr/local/lib/python3.10/dist-packages (from pyLDAvis) (1.25.2)\n",
            "Requirement already satisfied: scipy in /usr/local/lib/python3.10/dist-packages (from pyLDAvis) (1.11.4)\n",
            "Collecting pandas>=2.0.0 (from pyLDAvis)\n",
            "  Downloading pandas-2.2.1-cp310-cp310-manylinux_2_17_x86_64.manylinux2014_x86_64.whl (13.0 MB)\n",
            "\u001b[2K     \u001b[90m━━━━━━━━━━━━━━━━━━━━━━━━━━━━━━━━━━━━━━━━\u001b[0m \u001b[32m13.0/13.0 MB\u001b[0m \u001b[31m58.0 MB/s\u001b[0m eta \u001b[36m0:00:00\u001b[0m\n",
            "\u001b[?25hRequirement already satisfied: joblib>=1.2.0 in /usr/local/lib/python3.10/dist-packages (from pyLDAvis) (1.3.2)\n",
            "Requirement already satisfied: jinja2 in /usr/local/lib/python3.10/dist-packages (from pyLDAvis) (3.1.3)\n",
            "Requirement already satisfied: numexpr in /usr/local/lib/python3.10/dist-packages (from pyLDAvis) (2.9.0)\n",
            "Collecting funcy (from pyLDAvis)\n",
            "  Downloading funcy-2.0-py2.py3-none-any.whl (30 kB)\n",
            "Requirement already satisfied: scikit-learn>=1.0.0 in /usr/local/lib/python3.10/dist-packages (from pyLDAvis) (1.2.2)\n",
            "Requirement already satisfied: gensim in /usr/local/lib/python3.10/dist-packages (from pyLDAvis) (4.3.2)\n",
            "Requirement already satisfied: setuptools in /usr/local/lib/python3.10/dist-packages (from pyLDAvis) (67.7.2)\n",
            "Requirement already satisfied: python-dateutil>=2.8.2 in /usr/local/lib/python3.10/dist-packages (from pandas>=2.0.0->pyLDAvis) (2.8.2)\n",
            "Requirement already satisfied: pytz>=2020.1 in /usr/local/lib/python3.10/dist-packages (from pandas>=2.0.0->pyLDAvis) (2023.4)\n",
            "Requirement already satisfied: tzdata>=2022.7 in /usr/local/lib/python3.10/dist-packages (from pandas>=2.0.0->pyLDAvis) (2024.1)\n",
            "Requirement already satisfied: threadpoolctl>=2.0.0 in /usr/local/lib/python3.10/dist-packages (from scikit-learn>=1.0.0->pyLDAvis) (3.4.0)\n",
            "Requirement already satisfied: smart-open>=1.8.1 in /usr/local/lib/python3.10/dist-packages (from gensim->pyLDAvis) (6.4.0)\n",
            "Requirement already satisfied: MarkupSafe>=2.0 in /usr/local/lib/python3.10/dist-packages (from jinja2->pyLDAvis) (2.1.5)\n",
            "Requirement already satisfied: six>=1.5 in /usr/local/lib/python3.10/dist-packages (from python-dateutil>=2.8.2->pandas>=2.0.0->pyLDAvis) (1.16.0)\n",
            "Installing collected packages: funcy, pandas, pyLDAvis\n",
            "  Attempting uninstall: pandas\n",
            "    Found existing installation: pandas 1.5.3\n",
            "    Uninstalling pandas-1.5.3:\n",
            "      Successfully uninstalled pandas-1.5.3\n",
            "\u001b[31mERROR: pip's dependency resolver does not currently take into account all the packages that are installed. This behaviour is the source of the following dependency conflicts.\n",
            "google-colab 1.0.0 requires pandas==2.0.3, but you have pandas 2.2.1 which is incompatible.\u001b[0m\u001b[31m\n",
            "\u001b[0mSuccessfully installed funcy-2.0 pandas-2.2.1 pyLDAvis-3.4.1\n"
          ]
        }
      ]
    },
    {
      "cell_type": "code",
      "source": [
        "# for some reason, pyLDAvis requires an older version of pandas\n",
        "!pip install \"pandas<2.0.0\""
      ],
      "metadata": {
        "colab": {
          "base_uri": "https://localhost:8080/"
        },
        "id": "9zOzMHc8zUfo",
        "outputId": "43f999fb-45e6-4617-9524-a40fb8909d93"
      },
      "execution_count": null,
      "outputs": [
        {
          "output_type": "stream",
          "name": "stdout",
          "text": [
            "Collecting pandas<2.0.0\n",
            "  Using cached pandas-1.5.3-cp310-cp310-manylinux_2_17_x86_64.manylinux2014_x86_64.whl (12.1 MB)\n",
            "Requirement already satisfied: python-dateutil>=2.8.1 in /usr/local/lib/python3.10/dist-packages (from pandas<2.0.0) (2.8.2)\n",
            "Requirement already satisfied: pytz>=2020.1 in /usr/local/lib/python3.10/dist-packages (from pandas<2.0.0) (2023.4)\n",
            "Requirement already satisfied: numpy>=1.21.0 in /usr/local/lib/python3.10/dist-packages (from pandas<2.0.0) (1.25.2)\n",
            "Requirement already satisfied: six>=1.5 in /usr/local/lib/python3.10/dist-packages (from python-dateutil>=2.8.1->pandas<2.0.0) (1.16.0)\n",
            "Installing collected packages: pandas\n",
            "  Attempting uninstall: pandas\n",
            "    Found existing installation: pandas 2.2.1\n",
            "    Uninstalling pandas-2.2.1:\n",
            "      Successfully uninstalled pandas-2.2.1\n",
            "\u001b[31mERROR: pip's dependency resolver does not currently take into account all the packages that are installed. This behaviour is the source of the following dependency conflicts.\n",
            "google-colab 1.0.0 requires pandas==2.0.3, but you have pandas 1.5.3 which is incompatible.\n",
            "pyldavis 3.4.1 requires pandas>=2.0.0, but you have pandas 1.5.3 which is incompatible.\u001b[0m\u001b[31m\n",
            "\u001b[0mSuccessfully installed pandas-1.5.3\n"
          ]
        }
      ]
    },
    {
      "cell_type": "markdown",
      "source": [
        "### Import Statements"
      ],
      "metadata": {
        "id": "K9GVr42qB8Z5"
      }
    },
    {
      "cell_type": "code",
      "source": [
        "import tweepy as tw\n",
        "import pandas as pd\n",
        "import re\n",
        "import nltk\n",
        "from nltk.corpus import stopwords\n",
        "from nltk.tokenize import RegexpTokenizer\n",
        "from nltk.corpus import stopwords\n",
        "from nltk.stem import WordNetLemmatizer\n",
        "from nltk.collocations import BigramCollocationFinder\n",
        "from nltk.metrics import BigramAssocMeasures\n",
        "import gensim\n",
        "import gensim.corpora as corpora\n",
        "from gensim.models.ldamodel import LdaModel\n",
        "from gensim.models import CoherenceModel\n",
        "import pyLDAvis\n",
        "import pyLDAvis.gensim_models as gensimvis\n",
        "import pickle\n",
        "from collections import Counter\n",
        "import matplotlib.pyplot as plt"
      ],
      "metadata": {
        "id": "l9K9S9H4_L6Z"
      },
      "execution_count": null,
      "outputs": []
    },
    {
      "cell_type": "markdown",
      "source": [
        "### Making query using tweepy to get data"
      ],
      "metadata": {
        "id": "BoS1sZWMBnTa"
      }
    },
    {
      "cell_type": "code",
      "source": [
        "# Commented out so we do not make another query\n",
        "\n",
        "# bearer_token = \"AAAAAAAAAAAAAAAAAAAAABjFsgEAAAAAlpTaLAR1wJ2sut2HNk8oY2r9u28%3DRWpfy37hyg15PEYEQJAQwhjS9S3RasSkc1WV35KH1FhBPfAgjF\"\n",
        "\n",
        "# client = tw.Client(bearer_token=bearer_token)\n",
        "\n",
        "# query = 'toronto OR #toronto'\n",
        "\n",
        "# num_tweets = 500\n",
        "# tweets = []\n",
        "\n",
        "# response = client.search_recent_tweets(query, max_results=100)\n",
        "# tweets.extend(response.data)\n",
        "\n",
        "# # Continue to fetch tweets until we reach num_tweets or there are no more tweets\n",
        "# while len(tweets) < num_tweets and 'next_token' in response.meta:\n",
        "#     response = client.search_recent_tweets(query, max_results=100, next_token=response.meta['next_token'])\n",
        "#     if response.data is not None:\n",
        "#         tweets.extend(response.data)\n",
        "#     else:\n",
        "#         break  # Exit if there are no more tweets\n",
        "\n",
        "# # Print the number of tweets collected\n",
        "# print(f\"Collected {len(tweets)} tweets.\")"
      ],
      "metadata": {
        "id": "LY16-bhWWcCF",
        "colab": {
          "base_uri": "https://localhost:8080/"
        },
        "outputId": "479fc679-5ca7-48fd-ed33-db2db5b5b7a2"
      },
      "execution_count": null,
      "outputs": [
        {
          "output_type": "stream",
          "name": "stderr",
          "text": [
            "/usr/local/lib/python3.10/dist-packages/ipykernel/ipkernel.py:283: DeprecationWarning: `should_run_async` will not call `transform_cell` automatically in the future. Please pass the result to `transformed_cell` argument and any exception that happen during thetransform in `preprocessing_exc_tuple` in IPython 7.17 and above.\n",
            "  and should_run_async(code)\n"
          ]
        }
      ]
    },
    {
      "cell_type": "markdown",
      "source": [
        "### Export data to CSV file"
      ],
      "metadata": {
        "id": "yt_8KOPzCF2m"
      }
    },
    {
      "cell_type": "code",
      "source": [
        "# commented out since we've already exported\n",
        "# a = [tweet.text for tweet in tweets]\n",
        "# tweet_text = pd.DataFrame(a, columns = ['tweet'])\n",
        "# tweet_text.to_csv('tweets.csv', index=False)  # Export to csv, so we only have to make the query once"
      ],
      "metadata": {
        "id": "qiuHeUQqGFES",
        "colab": {
          "base_uri": "https://localhost:8080/"
        },
        "outputId": "f62e56c7-d75a-4a68-f31c-b56d34bff8cd"
      },
      "execution_count": null,
      "outputs": [
        {
          "output_type": "stream",
          "name": "stderr",
          "text": [
            "/usr/local/lib/python3.10/dist-packages/ipykernel/ipkernel.py:283: DeprecationWarning: `should_run_async` will not call `transform_cell` automatically in the future. Please pass the result to `transformed_cell` argument and any exception that happen during thetransform in `preprocessing_exc_tuple` in IPython 7.17 and above.\n",
            "  and should_run_async(code)\n"
          ]
        }
      ]
    },
    {
      "cell_type": "markdown",
      "source": [
        "### Code to retrieve our csv file of tweets which is saved on Github"
      ],
      "metadata": {
        "id": "JPt-DSqGCJ7F"
      }
    },
    {
      "cell_type": "code",
      "source": [
        "!wget 'https://raw.githubusercontent.com/e1444/JSC270a4/main/tweets.csv' # Get csv from github"
      ],
      "metadata": {
        "id": "PJzX98kdpFcm",
        "colab": {
          "base_uri": "https://localhost:8080/"
        },
        "outputId": "dfdfb013-d379-4c3f-ab01-b90fc373f356"
      },
      "execution_count": null,
      "outputs": [
        {
          "output_type": "stream",
          "name": "stderr",
          "text": [
            "/usr/local/lib/python3.10/dist-packages/ipykernel/ipkernel.py:283: DeprecationWarning: `should_run_async` will not call `transform_cell` automatically in the future. Please pass the result to `transformed_cell` argument and any exception that happen during thetransform in `preprocessing_exc_tuple` in IPython 7.17 and above.\n",
            "  and should_run_async(code)\n"
          ]
        },
        {
          "output_type": "stream",
          "name": "stdout",
          "text": [
            "--2024-04-04 01:52:42--  https://raw.githubusercontent.com/e1444/JSC270a4/main/tweets.csv\n",
            "Resolving raw.githubusercontent.com (raw.githubusercontent.com)... 185.199.108.133, 185.199.110.133, 185.199.109.133, ...\n",
            "Connecting to raw.githubusercontent.com (raw.githubusercontent.com)|185.199.108.133|:443... connected.\n",
            "HTTP request sent, awaiting response... 200 OK\n",
            "Length: 150352 (147K) [text/plain]\n",
            "Saving to: ‘tweets.csv’\n",
            "\n",
            "\rtweets.csv            0%[                    ]       0  --.-KB/s               \rtweets.csv          100%[===================>] 146.83K  --.-KB/s    in 0.008s  \n",
            "\n",
            "2024-04-04 01:52:43 (17.2 MB/s) - ‘tweets.csv’ saved [150352/150352]\n",
            "\n"
          ]
        }
      ]
    },
    {
      "cell_type": "code",
      "source": [
        "tweets = pd.read_csv(\"/content/tweets.csv\")   # Code to extract from csv"
      ],
      "metadata": {
        "id": "PlTj3yw9nTU6",
        "colab": {
          "base_uri": "https://localhost:8080/"
        },
        "outputId": "a4856464-3608-480b-cd9b-e32d337dda26"
      },
      "execution_count": null,
      "outputs": [
        {
          "output_type": "stream",
          "name": "stderr",
          "text": [
            "/usr/local/lib/python3.10/dist-packages/ipykernel/ipkernel.py:283: DeprecationWarning: `should_run_async` will not call `transform_cell` automatically in the future. Please pass the result to `transformed_cell` argument and any exception that happen during thetransform in `preprocessing_exc_tuple` in IPython 7.17 and above.\n",
            "  and should_run_async(code)\n"
          ]
        }
      ]
    },
    {
      "cell_type": "code",
      "source": [
        "# Look at twitter data\n",
        "pd.set_option('display.max_colwidth', 80)\n",
        "tweets.head()"
      ],
      "metadata": {
        "colab": {
          "base_uri": "https://localhost:8080/",
          "height": 261
        },
        "id": "8OL9Q-kSP6bJ",
        "outputId": "e0b6a969-5119-44cd-a1ca-c0818b2f5efd"
      },
      "execution_count": null,
      "outputs": [
        {
          "output_type": "stream",
          "name": "stderr",
          "text": [
            "/usr/local/lib/python3.10/dist-packages/ipykernel/ipkernel.py:283: DeprecationWarning: `should_run_async` will not call `transform_cell` automatically in the future. Please pass the result to `transformed_cell` argument and any exception that happen during thetransform in `preprocessing_exc_tuple` in IPython 7.17 and above.\n",
            "  and should_run_async(code)\n"
          ]
        },
        {
          "output_type": "execute_result",
          "data": {
            "text/plain": [
              "                                                                             tweet\n",
              "0  @ColinDMello I've always wondered who are the folks affording all the multim...\n",
              "1  Hi! swifties if anyone out there is looking for TAYLOR SWIFT THE ERAS TOUR t...\n",
              "2  RT @Rules23Jordan: Michael Jordan \\n30 Pts\\n11 Rbs \\n10 Asts \\n3 Stls \\n50FG...\n",
              "3  @antonioguterres \\nDear the Government of Canada For your information 2002 I...\n",
              "4                                                               We’re onto Toronto"
            ],
            "text/html": [
              "\n",
              "  <div id=\"df-ec1a6e01-1871-492e-b891-74d3619c3d28\" class=\"colab-df-container\">\n",
              "    <div>\n",
              "<style scoped>\n",
              "    .dataframe tbody tr th:only-of-type {\n",
              "        vertical-align: middle;\n",
              "    }\n",
              "\n",
              "    .dataframe tbody tr th {\n",
              "        vertical-align: top;\n",
              "    }\n",
              "\n",
              "    .dataframe thead th {\n",
              "        text-align: right;\n",
              "    }\n",
              "</style>\n",
              "<table border=\"1\" class=\"dataframe\">\n",
              "  <thead>\n",
              "    <tr style=\"text-align: right;\">\n",
              "      <th></th>\n",
              "      <th>tweet</th>\n",
              "    </tr>\n",
              "  </thead>\n",
              "  <tbody>\n",
              "    <tr>\n",
              "      <th>0</th>\n",
              "      <td>@ColinDMello I've always wondered who are the folks affording all the multim...</td>\n",
              "    </tr>\n",
              "    <tr>\n",
              "      <th>1</th>\n",
              "      <td>Hi! swifties if anyone out there is looking for TAYLOR SWIFT THE ERAS TOUR t...</td>\n",
              "    </tr>\n",
              "    <tr>\n",
              "      <th>2</th>\n",
              "      <td>RT @Rules23Jordan: Michael Jordan \\n30 Pts\\n11 Rbs \\n10 Asts \\n3 Stls \\n50FG...</td>\n",
              "    </tr>\n",
              "    <tr>\n",
              "      <th>3</th>\n",
              "      <td>@antonioguterres \\nDear the Government of Canada For your information 2002 I...</td>\n",
              "    </tr>\n",
              "    <tr>\n",
              "      <th>4</th>\n",
              "      <td>We’re onto Toronto</td>\n",
              "    </tr>\n",
              "  </tbody>\n",
              "</table>\n",
              "</div>\n",
              "    <div class=\"colab-df-buttons\">\n",
              "\n",
              "  <div class=\"colab-df-container\">\n",
              "    <button class=\"colab-df-convert\" onclick=\"convertToInteractive('df-ec1a6e01-1871-492e-b891-74d3619c3d28')\"\n",
              "            title=\"Convert this dataframe to an interactive table.\"\n",
              "            style=\"display:none;\">\n",
              "\n",
              "  <svg xmlns=\"http://www.w3.org/2000/svg\" height=\"24px\" viewBox=\"0 -960 960 960\">\n",
              "    <path d=\"M120-120v-720h720v720H120Zm60-500h600v-160H180v160Zm220 220h160v-160H400v160Zm0 220h160v-160H400v160ZM180-400h160v-160H180v160Zm440 0h160v-160H620v160ZM180-180h160v-160H180v160Zm440 0h160v-160H620v160Z\"/>\n",
              "  </svg>\n",
              "    </button>\n",
              "\n",
              "  <style>\n",
              "    .colab-df-container {\n",
              "      display:flex;\n",
              "      gap: 12px;\n",
              "    }\n",
              "\n",
              "    .colab-df-convert {\n",
              "      background-color: #E8F0FE;\n",
              "      border: none;\n",
              "      border-radius: 50%;\n",
              "      cursor: pointer;\n",
              "      display: none;\n",
              "      fill: #1967D2;\n",
              "      height: 32px;\n",
              "      padding: 0 0 0 0;\n",
              "      width: 32px;\n",
              "    }\n",
              "\n",
              "    .colab-df-convert:hover {\n",
              "      background-color: #E2EBFA;\n",
              "      box-shadow: 0px 1px 2px rgba(60, 64, 67, 0.3), 0px 1px 3px 1px rgba(60, 64, 67, 0.15);\n",
              "      fill: #174EA6;\n",
              "    }\n",
              "\n",
              "    .colab-df-buttons div {\n",
              "      margin-bottom: 4px;\n",
              "    }\n",
              "\n",
              "    [theme=dark] .colab-df-convert {\n",
              "      background-color: #3B4455;\n",
              "      fill: #D2E3FC;\n",
              "    }\n",
              "\n",
              "    [theme=dark] .colab-df-convert:hover {\n",
              "      background-color: #434B5C;\n",
              "      box-shadow: 0px 1px 3px 1px rgba(0, 0, 0, 0.15);\n",
              "      filter: drop-shadow(0px 1px 2px rgba(0, 0, 0, 0.3));\n",
              "      fill: #FFFFFF;\n",
              "    }\n",
              "  </style>\n",
              "\n",
              "    <script>\n",
              "      const buttonEl =\n",
              "        document.querySelector('#df-ec1a6e01-1871-492e-b891-74d3619c3d28 button.colab-df-convert');\n",
              "      buttonEl.style.display =\n",
              "        google.colab.kernel.accessAllowed ? 'block' : 'none';\n",
              "\n",
              "      async function convertToInteractive(key) {\n",
              "        const element = document.querySelector('#df-ec1a6e01-1871-492e-b891-74d3619c3d28');\n",
              "        const dataTable =\n",
              "          await google.colab.kernel.invokeFunction('convertToInteractive',\n",
              "                                                    [key], {});\n",
              "        if (!dataTable) return;\n",
              "\n",
              "        const docLinkHtml = 'Like what you see? Visit the ' +\n",
              "          '<a target=\"_blank\" href=https://colab.research.google.com/notebooks/data_table.ipynb>data table notebook</a>'\n",
              "          + ' to learn more about interactive tables.';\n",
              "        element.innerHTML = '';\n",
              "        dataTable['output_type'] = 'display_data';\n",
              "        await google.colab.output.renderOutput(dataTable, element);\n",
              "        const docLink = document.createElement('div');\n",
              "        docLink.innerHTML = docLinkHtml;\n",
              "        element.appendChild(docLink);\n",
              "      }\n",
              "    </script>\n",
              "  </div>\n",
              "\n",
              "\n",
              "<div id=\"df-af746903-3ac7-409d-8489-54aef1330252\">\n",
              "  <button class=\"colab-df-quickchart\" onclick=\"quickchart('df-af746903-3ac7-409d-8489-54aef1330252')\"\n",
              "            title=\"Suggest charts\"\n",
              "            style=\"display:none;\">\n",
              "\n",
              "<svg xmlns=\"http://www.w3.org/2000/svg\" height=\"24px\"viewBox=\"0 0 24 24\"\n",
              "     width=\"24px\">\n",
              "    <g>\n",
              "        <path d=\"M19 3H5c-1.1 0-2 .9-2 2v14c0 1.1.9 2 2 2h14c1.1 0 2-.9 2-2V5c0-1.1-.9-2-2-2zM9 17H7v-7h2v7zm4 0h-2V7h2v10zm4 0h-2v-4h2v4z\"/>\n",
              "    </g>\n",
              "</svg>\n",
              "  </button>\n",
              "\n",
              "<style>\n",
              "  .colab-df-quickchart {\n",
              "      --bg-color: #E8F0FE;\n",
              "      --fill-color: #1967D2;\n",
              "      --hover-bg-color: #E2EBFA;\n",
              "      --hover-fill-color: #174EA6;\n",
              "      --disabled-fill-color: #AAA;\n",
              "      --disabled-bg-color: #DDD;\n",
              "  }\n",
              "\n",
              "  [theme=dark] .colab-df-quickchart {\n",
              "      --bg-color: #3B4455;\n",
              "      --fill-color: #D2E3FC;\n",
              "      --hover-bg-color: #434B5C;\n",
              "      --hover-fill-color: #FFFFFF;\n",
              "      --disabled-bg-color: #3B4455;\n",
              "      --disabled-fill-color: #666;\n",
              "  }\n",
              "\n",
              "  .colab-df-quickchart {\n",
              "    background-color: var(--bg-color);\n",
              "    border: none;\n",
              "    border-radius: 50%;\n",
              "    cursor: pointer;\n",
              "    display: none;\n",
              "    fill: var(--fill-color);\n",
              "    height: 32px;\n",
              "    padding: 0;\n",
              "    width: 32px;\n",
              "  }\n",
              "\n",
              "  .colab-df-quickchart:hover {\n",
              "    background-color: var(--hover-bg-color);\n",
              "    box-shadow: 0 1px 2px rgba(60, 64, 67, 0.3), 0 1px 3px 1px rgba(60, 64, 67, 0.15);\n",
              "    fill: var(--button-hover-fill-color);\n",
              "  }\n",
              "\n",
              "  .colab-df-quickchart-complete:disabled,\n",
              "  .colab-df-quickchart-complete:disabled:hover {\n",
              "    background-color: var(--disabled-bg-color);\n",
              "    fill: var(--disabled-fill-color);\n",
              "    box-shadow: none;\n",
              "  }\n",
              "\n",
              "  .colab-df-spinner {\n",
              "    border: 2px solid var(--fill-color);\n",
              "    border-color: transparent;\n",
              "    border-bottom-color: var(--fill-color);\n",
              "    animation:\n",
              "      spin 1s steps(1) infinite;\n",
              "  }\n",
              "\n",
              "  @keyframes spin {\n",
              "    0% {\n",
              "      border-color: transparent;\n",
              "      border-bottom-color: var(--fill-color);\n",
              "      border-left-color: var(--fill-color);\n",
              "    }\n",
              "    20% {\n",
              "      border-color: transparent;\n",
              "      border-left-color: var(--fill-color);\n",
              "      border-top-color: var(--fill-color);\n",
              "    }\n",
              "    30% {\n",
              "      border-color: transparent;\n",
              "      border-left-color: var(--fill-color);\n",
              "      border-top-color: var(--fill-color);\n",
              "      border-right-color: var(--fill-color);\n",
              "    }\n",
              "    40% {\n",
              "      border-color: transparent;\n",
              "      border-right-color: var(--fill-color);\n",
              "      border-top-color: var(--fill-color);\n",
              "    }\n",
              "    60% {\n",
              "      border-color: transparent;\n",
              "      border-right-color: var(--fill-color);\n",
              "    }\n",
              "    80% {\n",
              "      border-color: transparent;\n",
              "      border-right-color: var(--fill-color);\n",
              "      border-bottom-color: var(--fill-color);\n",
              "    }\n",
              "    90% {\n",
              "      border-color: transparent;\n",
              "      border-bottom-color: var(--fill-color);\n",
              "    }\n",
              "  }\n",
              "</style>\n",
              "\n",
              "  <script>\n",
              "    async function quickchart(key) {\n",
              "      const quickchartButtonEl =\n",
              "        document.querySelector('#' + key + ' button');\n",
              "      quickchartButtonEl.disabled = true;  // To prevent multiple clicks.\n",
              "      quickchartButtonEl.classList.add('colab-df-spinner');\n",
              "      try {\n",
              "        const charts = await google.colab.kernel.invokeFunction(\n",
              "            'suggestCharts', [key], {});\n",
              "      } catch (error) {\n",
              "        console.error('Error during call to suggestCharts:', error);\n",
              "      }\n",
              "      quickchartButtonEl.classList.remove('colab-df-spinner');\n",
              "      quickchartButtonEl.classList.add('colab-df-quickchart-complete');\n",
              "    }\n",
              "    (() => {\n",
              "      let quickchartButtonEl =\n",
              "        document.querySelector('#df-af746903-3ac7-409d-8489-54aef1330252 button');\n",
              "      quickchartButtonEl.style.display =\n",
              "        google.colab.kernel.accessAllowed ? 'block' : 'none';\n",
              "    })();\n",
              "  </script>\n",
              "</div>\n",
              "\n",
              "    </div>\n",
              "  </div>\n"
            ],
            "application/vnd.google.colaboratory.intrinsic+json": {
              "type": "dataframe",
              "variable_name": "tweets",
              "summary": "{\n  \"name\": \"tweets\",\n  \"rows\": 1000,\n  \"fields\": [\n    {\n      \"column\": \"tweet\",\n      \"properties\": {\n        \"dtype\": \"string\",\n        \"num_unique_values\": 759,\n        \"samples\": [\n          \"RT @MLBHRVideos: Vladimir Guerrero Jr. - Toronto Blue Jays (1) \\n https://t.co/iWedxfA4iE\",\n          \"RT @CityNewsTO: Toronto police say a man who pretended to be interested in buying a Jeep that was for sale raced off in the vehicle during\\u2026\",\n          \"Toronto Work Commuters  \\ud83c\\udde8\\ud83c\\udde6\\ud83d\\ude8a https://t.co/hC69G1O3ty\"\n        ],\n        \"semantic_type\": \"\",\n        \"description\": \"\"\n      }\n    }\n  ]\n}"
            }
          },
          "metadata": {},
          "execution_count": 6
        }
      ]
    },
    {
      "cell_type": "markdown",
      "source": [
        "### Preprocessing the Text"
      ],
      "metadata": {
        "id": "fenegqlDAf6D"
      }
    },
    {
      "cell_type": "code",
      "source": [
        "nltk.download('stopwords')\n",
        "nltk.download('wordnet')\n",
        "nltk.download('punkt')\n",
        "\n",
        "texts = tweets['tweet'].tolist()\n",
        "\n",
        "seed = 80\n",
        "\n",
        "# Preprocessing function\n",
        "def preprocess(text):\n",
        "    # Convert to lowercase\n",
        "    text = text.lower()\n",
        "\n",
        "    # Remove URLs, handles, and the hashtag symbol\n",
        "    text = re.sub(r'http\\S+|www.\\S+|@[A-Za-z0-9_]+|#', '', text)\n",
        "\n",
        "    # Remove non-alphabetic characters\n",
        "    text = re.sub(r'[^a-zA-Z\\s]', '', text)\n",
        "\n",
        "    # Tokenize\n",
        "    tokenizer = RegexpTokenizer(r'\\w+')\n",
        "    tokens = tokenizer.tokenize(text)\n",
        "\n",
        "    # Lemmatization\n",
        "    lemmatizer = WordNetLemmatizer()\n",
        "    tokens = [lemmatizer.lemmatize(token) for token in tokens]\n",
        "\n",
        "    # Remove stopwords and unwanted words\n",
        "    stop_words = set(stopwords.words('english'))\n",
        "    custom_stop_words = {'rt', 'toronto', 'ontario', 'canada', 'amp'}\n",
        "    all_stop_words = stop_words.union(custom_stop_words)\n",
        "    tokens = [token for token in tokens if token not in all_stop_words and len(token) > 2]\n",
        "\n",
        "    # Generate bigrams\n",
        "    bigram_finder = BigramCollocationFinder.from_words(tokens)\n",
        "    bigrams = bigram_finder.nbest(BigramAssocMeasures.pmi, 10)\n",
        "    tokens.extend([' '.join(bigram) for bigram in bigrams])\n",
        "\n",
        "    return tokens\n",
        "\n",
        "# Apply preprocessing\n",
        "processed_texts = [preprocess(text) for text in texts]\n",
        "\n",
        "# Filter out any empty documents\n",
        "processed_texts = [tweet for tweet in processed_texts if tweet]"
      ],
      "metadata": {
        "colab": {
          "base_uri": "https://localhost:8080/"
        },
        "id": "2eBhzxDV_zKL",
        "outputId": "cec404cf-ce01-40eb-8af6-b940480a5181"
      },
      "execution_count": null,
      "outputs": [
        {
          "output_type": "stream",
          "name": "stderr",
          "text": [
            "[nltk_data] Downloading package stopwords to /root/nltk_data...\n",
            "[nltk_data]   Package stopwords is already up-to-date!\n",
            "[nltk_data] Downloading package wordnet to /root/nltk_data...\n",
            "[nltk_data]   Package wordnet is already up-to-date!\n",
            "[nltk_data] Downloading package punkt to /root/nltk_data...\n",
            "[nltk_data]   Package punkt is already up-to-date!\n"
          ]
        }
      ]
    },
    {
      "cell_type": "code",
      "source": [
        "for t in processed_texts[0:10]:\n",
        "  print(t)"
      ],
      "metadata": {
        "colab": {
          "base_uri": "https://localhost:8080/"
        },
        "id": "bw78dYfnLmmA",
        "outputId": "119f91fa-4c84-4346-e382-046c0d372483"
      },
      "execution_count": null,
      "outputs": [
        {
          "output_type": "stream",
          "name": "stdout",
          "text": [
            "['ive', 'always', 'wondered', 'folk', 'affording', 'multimillion', 'dollar', 'home', 'guess', 'tax', 'payer', 'funded', 'employee', 'along', 'make', 'sick', 'stomach', 'fam', 'affording multimillion', 'along make', 'always wondered', 'dollar home', 'employee along', 'folk affording', 'funded employee', 'guess tax', 'home guess', 'ive always']\n",
            "['swifties', 'anyone', 'looking', 'taylor', 'swift', 'era', 'tour', 'ticket', 'rogers', 'centre', 'nov', 'please', 'reach', 'selling', 'cheap', 'price', 'anyone looking', 'centre nov', 'cheap price', 'era tour', 'looking taylor', 'nov please', 'please reach', 'reach selling', 'rogers centre', 'selling cheap']\n",
            "['michael', 'jordan', 'asts', 'stls', 'wgntv', 'raptor', 'chicago', 'bull', 'april', 'asts stls', 'bull april', 'chicago bull', 'jordan asts', 'michael jordan', 'raptor chicago', 'stls wgntv', 'wgntv raptor']\n",
            "['dear', 'government', 'information', 'mental', 'breakdown', 'ambulance', 'took', 'north', 'york', 'general', 'hospital', 'admitted', 'north', 'york', 'general', 'hospital', 'psychiatric', 'unit', 'ambulance took', 'breakdown ambulance', 'dear government', 'government information', 'information mental', 'mental breakdown', 'psychiatric unit', 'admitted north', 'general hospital', 'hospital admitted']\n",
            "['onto']\n",
            "['michael', 'jordan', 'asts', 'stls', 'wgntv', 'raptor', 'chicago', 'bull', 'april', 'asts stls', 'bull april', 'chicago bull', 'jordan asts', 'michael jordan', 'raptor chicago', 'stls wgntv', 'wgntv raptor']\n",
            "['michael', 'jordan', 'asts', 'stls', 'wgntv', 'raptor', 'chicago', 'bull', 'april', 'asts stls', 'bull april', 'chicago bull', 'jordan asts', 'michael jordan', 'raptor chicago', 'stls wgntv', 'wgntv raptor']\n",
            "['join', 'betmgm', 'ontariocanada', 'get', 'sport', 'bonus', 'instantly', 'deposit', 'lot', 'promos', 'leafsforever', 'raptor', 'wethenorth', 'leaf', 'bluejays', 'jay', 'vladdy', 'leaf', 'openingday', 'sportsbet', 'tothecore', 'torvstb', 'easter', 'betmgm ontariocanada', 'bluejays jay', 'bonus instantly', 'deposit lot', 'get sport', 'instantly deposit', 'jay vladdy', 'join betmgm', 'leafsforever raptor', 'lot promos']\n",
            "['get', 'head', 'last', 'minute', 'homie', 'back', 'get head', 'head last', 'homie back', 'last minute', 'minute homie']\n",
            "['next', 'week', 'planning', 'housing', 'committee', 'consider', 'motion', 'accelerate', 'modular', 'accelerate modular', 'committee consider', 'consider motion', 'housing committee', 'motion accelerate', 'next week', 'planning housing', 'week planning']\n"
          ]
        }
      ]
    },
    {
      "cell_type": "markdown",
      "source": [
        "### Creating visualition to see most common words"
      ],
      "metadata": {
        "id": "-_WsTx_k44AD"
      }
    },
    {
      "cell_type": "code",
      "source": [
        "words = [word for tweet in processed_texts for word in tweet]\n",
        "c = Counter(words)\n",
        "\n",
        "# Get the most common words\n",
        "most_common_words = c.most_common(20)\n",
        "\n",
        "# Extract the words and their frequencies\n",
        "words = [word for word, _ in most_common_words]\n",
        "frequencies = [frequency for _, frequency in most_common_words]\n",
        "\n",
        "# Create a bar plot\n",
        "plt.bar(words, frequencies)\n",
        "\n",
        "# Set the title and axis labels\n",
        "plt.title('Most Common Words in the Tweets')\n",
        "plt.xlabel('Word')\n",
        "plt.ylabel('Frequency')\n",
        "\n",
        "# Rotate the x-axis labels for better readability\n",
        "plt.xticks(rotation=90)\n",
        "\n",
        "# Display the plot\n",
        "plt.show()"
      ],
      "metadata": {
        "colab": {
          "base_uri": "https://localhost:8080/",
          "height": 549
        },
        "id": "0Ktip9JJ6eWM",
        "outputId": "b2bada3d-da04-432c-a6e7-20bf2e1f6b96"
      },
      "execution_count": null,
      "outputs": [
        {
          "output_type": "display_data",
          "data": {
            "text/plain": [
              "<Figure size 640x480 with 1 Axes>"
            ],
            "image/png": "[encoded data removed]"
          },
          "metadata": {}
        }
      ]
    },
    {
      "cell_type": "code",
      "source": [
        "# @title Split our data\n",
        "from sklearn.model_selection import train_test_split\n",
        "\n",
        "train_data, test_data = train_test_split(processed_texts, test_size=0.3, random_state=seed)\n",
        "val_data, test_data = train_test_split(test_data, test_size=0.5, random_state=seed)"
      ],
      "metadata": {
        "id": "Ml1_mm9d2Dhk"
      },
      "execution_count": null,
      "outputs": []
    },
    {
      "cell_type": "markdown",
      "source": [
        "### Next we need to create a Document-Term Matrix"
      ],
      "metadata": {
        "id": "r6PP5S8MAmbN"
      }
    },
    {
      "cell_type": "code",
      "source": [
        "# Create a dictionary representation of the documents\n",
        "id2word = corpora.Dictionary(train_data)\n",
        "\n",
        "# Filter out words that occur in less than 20 tweets or more than 80% of the tweets\n",
        "# This filters out any additional stop words\n",
        "id2word.filter_extremes(no_below=20, no_above=0.8)\n",
        "\n",
        "# Create a Bag-of-Words representation of the documents\n",
        "train_corpus = [id2word.doc2bow(text) for text in train_data]\n",
        "test_corpus = [id2word.doc2bow(text) for text in test_data]\n"
      ],
      "metadata": {
        "id": "HGr24UE3Evwp"
      },
      "execution_count": null,
      "outputs": []
    },
    {
      "cell_type": "markdown",
      "source": [
        "### Picking Number of Topics"
      ],
      "metadata": {
        "id": "5bfPgtVrkA_H"
      }
    },
    {
      "cell_type": "code",
      "source": [
        "def compute_coherence_values(corpus, dictionary, k):\n",
        "    lda_model = LdaModel(corpus=corpus,\n",
        "                         id2word=dictionary,\n",
        "                         alpha='auto',\n",
        "                         eta='auto',\n",
        "                         iterations=300,\n",
        "                         num_topics=k,\n",
        "                         passes=20,\n",
        "                         eval_every=None,\n",
        "                         random_state=seed)\n",
        "\n",
        "    coherence_model_lda = CoherenceModel(model=lda_model, texts=val_data, dictionary=id2word, coherence='c_v')\n",
        "\n",
        "    return coherence_model_lda.get_coherence()\n",
        "\n",
        "# Topics range\n",
        "min_topics = 2\n",
        "max_topics = 15\n",
        "topics_range = range(min_topics, max_topics, 1)\n",
        "\n",
        "corpus_title = ['75% Corpus', '100% Corpus']\n",
        "\n",
        "model_results = {\n",
        "    'Topics': [],\n",
        "    'Coherence': []\n",
        "    }\n",
        "\n",
        "for k in topics_range:\n",
        "    # get the coherence score for the given parameters\n",
        "    cv = compute_coherence_values(corpus=train_corpus, dictionary=id2word, k=k)\n",
        "    # Save the model results\n",
        "    model_results['Topics'].append(k)\n",
        "    model_results['Coherence'].append(cv)\n",
        "\n",
        "coherence_scores = pd.DataFrame(model_results)"
      ],
      "metadata": {
        "id": "neHu6e9nkAl5"
      },
      "execution_count": null,
      "outputs": []
    },
    {
      "cell_type": "code",
      "source": [
        "# Plot the coherence scores\n",
        "plt.figure(figsize=(10,5))\n",
        "sns.lineplot(x=\"Topics\", y=\"Coherence\", data=coherence_scores, ci=None)\n",
        "plt.xlabel(\"Number of Topics\")\n",
        "plt.ylabel(\"Coherence Score\")\n",
        "plt.title(\"Coherence Scores for Different Number of Topics\")\n",
        "plt.show()"
      ],
      "metadata": {
        "colab": {
          "base_uri": "https://localhost:8080/",
          "height": 487
        },
        "id": "mFak7l8GpUQZ",
        "outputId": "3fcb1154-240f-4aa7-d2a3-c0f679a69e58"
      },
      "execution_count": null,
      "outputs": [
        {
          "output_type": "display_data",
          "data": {
            "text/plain": [
              "<Figure size 1000x500 with 1 Axes>"
            ],
            "image/png": "[encoded data removed]"
          },
          "metadata": {}
        }
      ]
    },
    {
      "cell_type": "markdown",
      "source": [
        "From this graph, we can see that 5 topics is the best number of topics for us to use as it gives the highest coherence score."
      ],
      "metadata": {
        "id": "SWmcYffB4Xqn"
      }
    },
    {
      "cell_type": "markdown",
      "source": [
        "### Then we apply the LDA model to our document-term matrix"
      ],
      "metadata": {
        "id": "zaOqHfkVgrZc"
      }
    },
    {
      "cell_type": "code",
      "source": [
        " t# Set seed\n",
        "seed = 80\n",
        "\n",
        "# Set training parameters\n",
        "num_topics = 5\n",
        "passes = 20\n",
        "\n",
        "# Train the model\n",
        "lda_model = LdaModel(\n",
        "    corpus=train_corpus,\n",
        "    id2word=id2word,\n",
        "    alpha='auto',\n",
        "    eta='auto',\n",
        "    iterations=100,\n",
        "    num_topics=num_topics,\n",
        "    passes=passes,\n",
        "    eval_every=None,\n",
        "    random_state=seed\n",
        ")\n",
        "\n",
        "# Print the Keyword in the num_topics topics\n",
        "topics = lda_model.print_topics()\n",
        "for topic in topics:\n",
        "    print(topic)"
      ],
      "metadata": {
        "colab": {
          "base_uri": "https://localhost:8080/"
        },
        "id": "Y7r8VNd4BRHh",
        "outputId": "01ec2a71-17d1-4159-91cf-932922cb2c3f"
      },
      "execution_count": null,
      "outputs": [
        {
          "output_type": "stream",
          "name": "stdout",
          "text": [
            "(0, '0.128*\"nhl\" + 0.110*\"point\" + 0.101*\"doesnt\" + 0.096*\"fly\" + 0.096*\"fight\" + 0.096*\"like\" + 0.095*\"get\" + 0.092*\"personally\" + 0.092*\"personally fly\" + 0.074*\"life\"')\n",
            "(1, '0.297*\"year\" + 0.233*\"get\" + 0.194*\"new\" + 0.140*\"april\" + 0.046*\"like\" + 0.039*\"government\" + 0.016*\"march\" + 0.002*\"one\" + 0.002*\"life\" + 0.002*\"day\"')\n",
            "(2, '0.298*\"police\" + 0.250*\"canadian\" + 0.194*\"day\" + 0.138*\"government\" + 0.037*\"april\" + 0.034*\"life\" + 0.012*\"march\" + 0.002*\"year\" + 0.002*\"gut\" + 0.002*\"two\"')\n",
            "(3, '0.544*\"one\" + 0.353*\"star\" + 0.005*\"olivia\" + 0.004*\"selling\" + 0.004*\"interested\" + 0.004*\"ticket\" + 0.004*\"march\" + 0.004*\"rodrigo\" + 0.004*\"olivia rodrigo\" + 0.004*\"scotiabank\"')\n",
            "(4, '0.151*\"ticket\" + 0.137*\"olivia\" + 0.128*\"selling\" + 0.107*\"rodrigo\" + 0.105*\"olivia rodrigo\" + 0.072*\"interested\" + 0.068*\"arena\" + 0.058*\"scotiabank\" + 0.058*\"gut\" + 0.054*\"two\"')\n"
          ]
        }
      ]
    },
    {
      "cell_type": "markdown",
      "source": [
        "### Checking the accuracy and validating our results"
      ],
      "metadata": {
        "id": "eFnmjC6kfww2"
      }
    },
    {
      "cell_type": "code",
      "source": [
        "# Compute Coherence Score\n",
        "coherence_model_lda = CoherenceModel(model=lda_model, texts=test_data, dictionary=id2word, coherence='c_v')\n",
        "coherence_lda = coherence_model_lda.get_coherence()\n",
        "print('Coherence Score: ', coherence_lda)"
      ],
      "metadata": {
        "colab": {
          "base_uri": "https://localhost:8080/"
        },
        "id": "gYQaWvT0mq8k",
        "outputId": "5a8779c6-1b5a-41cb-826a-cc8115b00d5c"
      },
      "execution_count": null,
      "outputs": [
        {
          "output_type": "stream",
          "name": "stdout",
          "text": [
            "Coherence Score:  0.5593812187845668\n"
          ]
        }
      ]
    },
    {
      "cell_type": "markdown",
      "source": [
        "### Viewing our results"
      ],
      "metadata": {
        "id": "MH_PRyo-f6aW"
      }
    },
    {
      "cell_type": "code",
      "source": [
        "def format_topics_sentences(ldamodel=None, corpus=test_corpus, texts=test_data):\n",
        "    # Init output\n",
        "    sent_topics_df = pd.DataFrame()\n",
        "\n",
        "    # Get main topic in each document\n",
        "    for i, row_list in enumerate(ldamodel[corpus]):\n",
        "        row = row_list[0] if ldamodel.per_word_topics else row_list\n",
        "        # print(row)\n",
        "        row = sorted(row, key=lambda x: (x[1]), reverse=True)\n",
        "        # Get the Dominant topic, Perc Contribution and Keywords for each document\n",
        "        for j, (topic_num, prop_topic) in enumerate(row):\n",
        "            if j == 0:  # => dominant topic\n",
        "                wp = ldamodel.show_topic(topic_num)\n",
        "                topic_keywords = \", \".join([word for word, prop in wp])\n",
        "                sent_topics_df = sent_topics_df.append(pd.Series([int(topic_num), round(prop_topic,4), topic_keywords]), ignore_index=True)\n",
        "            else:\n",
        "                break\n",
        "    sent_topics_df.columns = ['Dominant_Topic', 'Perc_Contribution', 'Topic_Keywords']\n",
        "\n",
        "    contents = pd.Series(texts)\n",
        "    sent_topics_df = pd.concat([sent_topics_df, contents], axis=1)\n",
        "    return(sent_topics_df)\n",
        "\n",
        "\n",
        "df_topic_sents_keywords = format_topics_sentences(ldamodel=lda_model, corpus=test_corpus, texts=test_data)\n",
        "\n",
        "# # Format\n",
        "# df_dominant_topic = df_topic_sents_keywords.reset_index()\n",
        "# df_dominant_topic.columns = ['Document_No', 'Dominant_Topic', 'Topic_Perc_Contrib', 'Keywords', 'Text']\n",
        "# df_dominant_topic.head(10)"
      ],
      "metadata": {
        "id": "cTQ9a9TepOBq"
      },
      "execution_count": null,
      "outputs": []
    },
    {
      "cell_type": "code",
      "source": [
        "pd.options.display.max_colwidth = 100\n",
        "\n",
        "sent_topics_sorteddf_mallet = pd.DataFrame()\n",
        "sent_topics_outdf_grpd = df_topic_sents_keywords.groupby('Dominant_Topic')\n",
        "\n",
        "for i, grp in sent_topics_outdf_grpd:\n",
        "    sent_topics_sorteddf_mallet = pd.concat([sent_topics_sorteddf_mallet,\n",
        "                                             grp.sort_values(['Perc_Contribution'], ascending=False).head(1)],\n",
        "                                            axis=0)\n",
        "\n",
        "# Reset Index\n",
        "sent_topics_sorteddf_mallet.reset_index(drop=True, inplace=True)\n",
        "\n",
        "# Format\n",
        "sent_topics_sorteddf_mallet.columns = ['Topic_Num', \"Topic_Perc_Contrib\", \"Keywords\", \"Representative Text\"]\n",
        "\n",
        "# Show\n",
        "sent_topics_sorteddf_mallet[['Topic_Num', 'Keywords']].head(10)"
      ],
      "metadata": {
        "colab": {
          "base_uri": "https://localhost:8080/",
          "height": 206
        },
        "id": "fX_puXj_uLbn",
        "outputId": "53edfb07-dd5b-4dea-e7a0-aa7feb61b877"
      },
      "execution_count": null,
      "outputs": [
        {
          "output_type": "execute_result",
          "data": {
            "text/plain": [
              "   Topic_Num  \\\n",
              "0          0   \n",
              "1          1   \n",
              "2          2   \n",
              "3          3   \n",
              "4          4   \n",
              "\n",
              "                                                                                     Keywords  \n",
              "0                 nhl, point, doesnt, fly, fight, like, get, personally, personally fly, life  \n",
              "1                              year, get, new, april, like, government, march, one, life, day  \n",
              "2                       police, canadian, day, government, april, life, march, year, gut, two  \n",
              "3  one, star, olivia, selling, interested, ticket, march, rodrigo, olivia rodrigo, scotiabank  \n",
              "4   ticket, olivia, selling, rodrigo, olivia rodrigo, interested, arena, scotiabank, gut, two  "
            ],
            "text/html": [
              "\n",
              "  <div id=\"df-674b4e35-04ee-4105-8a08-51d5e27af2f0\" class=\"colab-df-container\">\n",
              "    <div>\n",
              "<style scoped>\n",
              "    .dataframe tbody tr th:only-of-type {\n",
              "        vertical-align: middle;\n",
              "    }\n",
              "\n",
              "    .dataframe tbody tr th {\n",
              "        vertical-align: top;\n",
              "    }\n",
              "\n",
              "    .dataframe thead th {\n",
              "        text-align: right;\n",
              "    }\n",
              "</style>\n",
              "<table border=\"1\" class=\"dataframe\">\n",
              "  <thead>\n",
              "    <tr style=\"text-align: right;\">\n",
              "      <th></th>\n",
              "      <th>Topic_Num</th>\n",
              "      <th>Keywords</th>\n",
              "    </tr>\n",
              "  </thead>\n",
              "  <tbody>\n",
              "    <tr>\n",
              "      <th>0</th>\n",
              "      <td>0</td>\n",
              "      <td>nhl, point, doesnt, fly, fight, like, get, personally, personally fly, life</td>\n",
              "    </tr>\n",
              "    <tr>\n",
              "      <th>1</th>\n",
              "      <td>1</td>\n",
              "      <td>year, get, new, april, like, government, march, one, life, day</td>\n",
              "    </tr>\n",
              "    <tr>\n",
              "      <th>2</th>\n",
              "      <td>2</td>\n",
              "      <td>police, canadian, day, government, april, life, march, year, gut, two</td>\n",
              "    </tr>\n",
              "    <tr>\n",
              "      <th>3</th>\n",
              "      <td>3</td>\n",
              "      <td>one, star, olivia, selling, interested, ticket, march, rodrigo, olivia rodrigo, scotiabank</td>\n",
              "    </tr>\n",
              "    <tr>\n",
              "      <th>4</th>\n",
              "      <td>4</td>\n",
              "      <td>ticket, olivia, selling, rodrigo, olivia rodrigo, interested, arena, scotiabank, gut, two</td>\n",
              "    </tr>\n",
              "  </tbody>\n",
              "</table>\n",
              "</div>\n",
              "    <div class=\"colab-df-buttons\">\n",
              "\n",
              "  <div class=\"colab-df-container\">\n",
              "    <button class=\"colab-df-convert\" onclick=\"convertToInteractive('df-674b4e35-04ee-4105-8a08-51d5e27af2f0')\"\n",
              "            title=\"Convert this dataframe to an interactive table.\"\n",
              "            style=\"display:none;\">\n",
              "\n",
              "  <svg xmlns=\"http://www.w3.org/2000/svg\" height=\"24px\" viewBox=\"0 -960 960 960\">\n",
              "    <path d=\"M120-120v-720h720v720H120Zm60-500h600v-160H180v160Zm220 220h160v-160H400v160Zm0 220h160v-160H400v160ZM180-400h160v-160H180v160Zm440 0h160v-160H620v160ZM180-180h160v-160H180v160Zm440 0h160v-160H620v160Z\"/>\n",
              "  </svg>\n",
              "    </button>\n",
              "\n",
              "  <style>\n",
              "    .colab-df-container {\n",
              "      display:flex;\n",
              "      gap: 12px;\n",
              "    }\n",
              "\n",
              "    .colab-df-convert {\n",
              "      background-color: #E8F0FE;\n",
              "      border: none;\n",
              "      border-radius: 50%;\n",
              "      cursor: pointer;\n",
              "      display: none;\n",
              "      fill: #1967D2;\n",
              "      height: 32px;\n",
              "      padding: 0 0 0 0;\n",
              "      width: 32px;\n",
              "    }\n",
              "\n",
              "    .colab-df-convert:hover {\n",
              "      background-color: #E2EBFA;\n",
              "      box-shadow: 0px 1px 2px rgba(60, 64, 67, 0.3), 0px 1px 3px 1px rgba(60, 64, 67, 0.15);\n",
              "      fill: #174EA6;\n",
              "    }\n",
              "\n",
              "    .colab-df-buttons div {\n",
              "      margin-bottom: 4px;\n",
              "    }\n",
              "\n",
              "    [theme=dark] .colab-df-convert {\n",
              "      background-color: #3B4455;\n",
              "      fill: #D2E3FC;\n",
              "    }\n",
              "\n",
              "    [theme=dark] .colab-df-convert:hover {\n",
              "      background-color: #434B5C;\n",
              "      box-shadow: 0px 1px 3px 1px rgba(0, 0, 0, 0.15);\n",
              "      filter: drop-shadow(0px 1px 2px rgba(0, 0, 0, 0.3));\n",
              "      fill: #FFFFFF;\n",
              "    }\n",
              "  </style>\n",
              "\n",
              "    <script>\n",
              "      const buttonEl =\n",
              "        document.querySelector('#df-674b4e35-04ee-4105-8a08-51d5e27af2f0 button.colab-df-convert');\n",
              "      buttonEl.style.display =\n",
              "        google.colab.kernel.accessAllowed ? 'block' : 'none';\n",
              "\n",
              "      async function convertToInteractive(key) {\n",
              "        const element = document.querySelector('#df-674b4e35-04ee-4105-8a08-51d5e27af2f0');\n",
              "        const dataTable =\n",
              "          await google.colab.kernel.invokeFunction('convertToInteractive',\n",
              "                                                    [key], {});\n",
              "        if (!dataTable) return;\n",
              "\n",
              "        const docLinkHtml = 'Like what you see? Visit the ' +\n",
              "          '<a target=\"_blank\" href=https://colab.research.google.com/notebooks/data_table.ipynb>data table notebook</a>'\n",
              "          + ' to learn more about interactive tables.';\n",
              "        element.innerHTML = '';\n",
              "        dataTable['output_type'] = 'display_data';\n",
              "        await google.colab.output.renderOutput(dataTable, element);\n",
              "        const docLink = document.createElement('div');\n",
              "        docLink.innerHTML = docLinkHtml;\n",
              "        element.appendChild(docLink);\n",
              "      }\n",
              "    </script>\n",
              "  </div>\n",
              "\n",
              "\n",
              "<div id=\"df-695730ea-db74-4071-98e6-eb2229798e84\">\n",
              "  <button class=\"colab-df-quickchart\" onclick=\"quickchart('df-695730ea-db74-4071-98e6-eb2229798e84')\"\n",
              "            title=\"Suggest charts\"\n",
              "            style=\"display:none;\">\n",
              "\n",
              "<svg xmlns=\"http://www.w3.org/2000/svg\" height=\"24px\"viewBox=\"0 0 24 24\"\n",
              "     width=\"24px\">\n",
              "    <g>\n",
              "        <path d=\"M19 3H5c-1.1 0-2 .9-2 2v14c0 1.1.9 2 2 2h14c1.1 0 2-.9 2-2V5c0-1.1-.9-2-2-2zM9 17H7v-7h2v7zm4 0h-2V7h2v10zm4 0h-2v-4h2v4z\"/>\n",
              "    </g>\n",
              "</svg>\n",
              "  </button>\n",
              "\n",
              "<style>\n",
              "  .colab-df-quickchart {\n",
              "      --bg-color: #E8F0FE;\n",
              "      --fill-color: #1967D2;\n",
              "      --hover-bg-color: #E2EBFA;\n",
              "      --hover-fill-color: #174EA6;\n",
              "      --disabled-fill-color: #AAA;\n",
              "      --disabled-bg-color: #DDD;\n",
              "  }\n",
              "\n",
              "  [theme=dark] .colab-df-quickchart {\n",
              "      --bg-color: #3B4455;\n",
              "      --fill-color: #D2E3FC;\n",
              "      --hover-bg-color: #434B5C;\n",
              "      --hover-fill-color: #FFFFFF;\n",
              "      --disabled-bg-color: #3B4455;\n",
              "      --disabled-fill-color: #666;\n",
              "  }\n",
              "\n",
              "  .colab-df-quickchart {\n",
              "    background-color: var(--bg-color);\n",
              "    border: none;\n",
              "    border-radius: 50%;\n",
              "    cursor: pointer;\n",
              "    display: none;\n",
              "    fill: var(--fill-color);\n",
              "    height: 32px;\n",
              "    padding: 0;\n",
              "    width: 32px;\n",
              "  }\n",
              "\n",
              "  .colab-df-quickchart:hover {\n",
              "    background-color: var(--hover-bg-color);\n",
              "    box-shadow: 0 1px 2px rgba(60, 64, 67, 0.3), 0 1px 3px 1px rgba(60, 64, 67, 0.15);\n",
              "    fill: var(--button-hover-fill-color);\n",
              "  }\n",
              "\n",
              "  .colab-df-quickchart-complete:disabled,\n",
              "  .colab-df-quickchart-complete:disabled:hover {\n",
              "    background-color: var(--disabled-bg-color);\n",
              "    fill: var(--disabled-fill-color);\n",
              "    box-shadow: none;\n",
              "  }\n",
              "\n",
              "  .colab-df-spinner {\n",
              "    border: 2px solid var(--fill-color);\n",
              "    border-color: transparent;\n",
              "    border-bottom-color: var(--fill-color);\n",
              "    animation:\n",
              "      spin 1s steps(1) infinite;\n",
              "  }\n",
              "\n",
              "  @keyframes spin {\n",
              "    0% {\n",
              "      border-color: transparent;\n",
              "      border-bottom-color: var(--fill-color);\n",
              "      border-left-color: var(--fill-color);\n",
              "    }\n",
              "    20% {\n",
              "      border-color: transparent;\n",
              "      border-left-color: var(--fill-color);\n",
              "      border-top-color: var(--fill-color);\n",
              "    }\n",
              "    30% {\n",
              "      border-color: transparent;\n",
              "      border-left-color: var(--fill-color);\n",
              "      border-top-color: var(--fill-color);\n",
              "      border-right-color: var(--fill-color);\n",
              "    }\n",
              "    40% {\n",
              "      border-color: transparent;\n",
              "      border-right-color: var(--fill-color);\n",
              "      border-top-color: var(--fill-color);\n",
              "    }\n",
              "    60% {\n",
              "      border-color: transparent;\n",
              "      border-right-color: var(--fill-color);\n",
              "    }\n",
              "    80% {\n",
              "      border-color: transparent;\n",
              "      border-right-color: var(--fill-color);\n",
              "      border-bottom-color: var(--fill-color);\n",
              "    }\n",
              "    90% {\n",
              "      border-color: transparent;\n",
              "      border-bottom-color: var(--fill-color);\n",
              "    }\n",
              "  }\n",
              "</style>\n",
              "\n",
              "  <script>\n",
              "    async function quickchart(key) {\n",
              "      const quickchartButtonEl =\n",
              "        document.querySelector('#' + key + ' button');\n",
              "      quickchartButtonEl.disabled = true;  // To prevent multiple clicks.\n",
              "      quickchartButtonEl.classList.add('colab-df-spinner');\n",
              "      try {\n",
              "        const charts = await google.colab.kernel.invokeFunction(\n",
              "            'suggestCharts', [key], {});\n",
              "      } catch (error) {\n",
              "        console.error('Error during call to suggestCharts:', error);\n",
              "      }\n",
              "      quickchartButtonEl.classList.remove('colab-df-spinner');\n",
              "      quickchartButtonEl.classList.add('colab-df-quickchart-complete');\n",
              "    }\n",
              "    (() => {\n",
              "      let quickchartButtonEl =\n",
              "        document.querySelector('#df-695730ea-db74-4071-98e6-eb2229798e84 button');\n",
              "      quickchartButtonEl.style.display =\n",
              "        google.colab.kernel.accessAllowed ? 'block' : 'none';\n",
              "    })();\n",
              "  </script>\n",
              "</div>\n",
              "\n",
              "    </div>\n",
              "  </div>\n"
            ],
            "application/vnd.google.colaboratory.intrinsic+json": {
              "type": "dataframe",
              "summary": "{\n  \"name\": \"sent_topics_sorteddf_mallet[['Topic_Num', 'Keywords']]\",\n  \"rows\": 5,\n  \"fields\": [\n    {\n      \"column\": \"Topic_Num\",\n      \"properties\": {\n        \"dtype\": \"number\",\n        \"std\": 1,\n        \"min\": 0,\n        \"max\": 4,\n        \"num_unique_values\": 5,\n        \"samples\": [\n          1,\n          4,\n          2\n        ],\n        \"semantic_type\": \"\",\n        \"description\": \"\"\n      }\n    },\n    {\n      \"column\": \"Keywords\",\n      \"properties\": {\n        \"dtype\": \"string\",\n        \"num_unique_values\": 5,\n        \"samples\": [\n          \"year, get, new, april, like, government, march, one, life, day\",\n          \"ticket, olivia, selling, rodrigo, olivia rodrigo, interested, arena, scotiabank, gut, two\",\n          \"police, canadian, day, government, april, life, march, year, gut, two\"\n        ],\n        \"semantic_type\": \"\",\n        \"description\": \"\"\n      }\n    }\n  ]\n}"
            }
          },
          "metadata": {},
          "execution_count": 86
        }
      ]
    },
    {
      "cell_type": "markdown",
      "source": [
        "### Visualizing the Clustering with Different Methods"
      ],
      "metadata": {
        "id": "JdvmBTPUDNOI"
      }
    },
    {
      "cell_type": "code",
      "source": [
        "# Get topic weights and dominant topics ------------x\n",
        "from sklearn.manifold import TSNE\n",
        "import matplotlib.colors as mcolors\n",
        "from bokeh.plotting import figure, output_file, show\n",
        "from bokeh.models import Label\n",
        "from bokeh.io import output_notebook\n",
        "\n",
        "# Get topic weights\n",
        "topic_weights = []\n",
        "for i, row_list in enumerate(lda_model[test_corpus]):\n",
        "    # print(row_list)\n",
        "    topic_weights.append([w for i, w in row_list])\n",
        "\n",
        "# Array of topic weights\n",
        "arr = pd.DataFrame(topic_weights).fillna(0).values\n",
        "\n",
        "# Keep the well separated points\n",
        "arr = arr[np.amax(arr, axis=1) > 0.35]\n",
        "\n",
        "# Dominant topic number in each doc\n",
        "topic_num = np.argmax(arr, axis=1)\n",
        "\n",
        "# tSNE Dimension Reduction\n",
        "tsne_model = TSNE(n_components=2, verbose=1, random_state=0, angle=.99, init='pca')\n",
        "tsne_lda = tsne_model.fit_transform(arr)\n",
        "\n",
        "output_notebook()\n",
        "mycolors = np.array([color for name, color in mcolors.TABLEAU_COLORS.items()])\n",
        "plot = figure(title=\"t-SNE Clustering of {} LDA Topics\".format(5), width = 750, height = 500)\n",
        "\n",
        "# Create a scatter plot for each topic\n",
        "for i in range(5):\n",
        "    # Select the indices for the points belonging to the i-th topic\n",
        "    indices = [index for index, value in enumerate(topic_num) if value == i]\n",
        "    # Plot those points with the color and label for the i-th topic\n",
        "    plot.scatter(x=tsne_lda[indices,0], y=tsne_lda[indices,1],\n",
        "                 color=mycolors[i], legend_label='Topic ' + str(i + 1))\n",
        "\n",
        "# Position the legend in the top right corner of the plot\n",
        "plot.legend.location = \"bottom_right\"\n",
        "\n",
        "show(plot)\n"
      ],
      "metadata": {
        "colab": {
          "base_uri": "https://localhost:8080/",
          "height": 639
        },
        "id": "xhXP3g-Pv_uF",
        "outputId": "79d0f040-2550-4006-fd55-d99bee401474"
      },
      "execution_count": null,
      "outputs": [
        {
          "output_type": "stream",
          "name": "stdout",
          "text": [
            "[t-SNE] Computing 76 nearest neighbors...\n",
            "[t-SNE] Indexed 77 samples in 0.000s...\n",
            "[t-SNE] Computed neighbors for 77 samples in 0.006s...\n",
            "[t-SNE] Computed conditional probabilities for sample 77 / 77\n",
            "[t-SNE] Mean sigma: 0.471829\n",
            "[t-SNE] KL divergence after 250 iterations with early exaggeration: 46.807850\n",
            "[t-SNE] KL divergence after 750 iterations: 0.014879\n"
          ]
        },
        {
          "output_type": "display_data",
          "data": {
            "application/javascript": [
              "(function(root) {\n",
              "  function now() {\n",
              "    return new Date();\n",
              "  }\n",
              "\n",
              "  const force = true;\n",
              "\n",
              "  if (typeof root._bokeh_onload_callbacks === \"undefined\" || force === true) {\n",
              "    root._bokeh_onload_callbacks = [];\n",
              "    root._bokeh_is_loading = undefined;\n",
              "  }\n",
              "\n",
              "const JS_MIME_TYPE = 'application/javascript';\n",
              "  const HTML_MIME_TYPE = 'text/html';\n",
              "  const EXEC_MIME_TYPE = 'application/vnd.bokehjs_exec.v0+json';\n",
              "  const CLASS_NAME = 'output_bokeh rendered_html';\n",
              "\n",
              "  /**\n",
              "   * Render data to the DOM node\n",
              "   */\n",
              "  function render(props, node) {\n",
              "    const script = document.createElement(\"script\");\n",
              "    node.appendChild(script);\n",
              "  }\n",
              "\n",
              "  /**\n",
              "   * Handle when an output is cleared or removed\n",
              "   */\n",
              "  function handleClearOutput(event, handle) {\n",
              "    function drop(id) {\n",
              "      const view = Bokeh.index.get_by_id(id)\n",
              "      if (view != null) {\n",
              "        view.model.document.clear()\n",
              "        Bokeh.index.delete(view)\n",
              "      }\n",
              "    }\n",
              "\n",
              "    const cell = handle.cell;\n",
              "\n",
              "    const id = cell.output_area._bokeh_element_id;\n",
              "    const server_id = cell.output_area._bokeh_server_id;\n",
              "\n",
              "    // Clean up Bokeh references\n",
              "    if (id != null) {\n",
              "      drop(id)\n",
              "    }\n",
              "\n",
              "    if (server_id !== undefined) {\n",
              "      // Clean up Bokeh references\n",
              "      const cmd_clean = \"from bokeh.io.state import curstate; print(curstate().uuid_to_server['\" + server_id + \"'].get_sessions()[0].document.roots[0]._id)\";\n",
              "      cell.notebook.kernel.execute(cmd_clean, {\n",
              "        iopub: {\n",
              "          output: function(msg) {\n",
              "            const id = msg.content.text.trim()\n",
              "            drop(id)\n",
              "          }\n",
              "        }\n",
              "      });\n",
              "      // Destroy server and session\n",
              "      const cmd_destroy = \"import bokeh.io.notebook as ion; ion.destroy_server('\" + server_id + \"')\";\n",
              "      cell.notebook.kernel.execute(cmd_destroy);\n",
              "    }\n",
              "  }\n",
              "\n",
              "  /**\n",
              "   * Handle when a new output is added\n",
              "   */\n",
              "  function handleAddOutput(event, handle) {\n",
              "    const output_area = handle.output_area;\n",
              "    const output = handle.output;\n",
              "\n",
              "    // limit handleAddOutput to display_data with EXEC_MIME_TYPE content only\n",
              "    if ((output.output_type != \"display_data\") || (!Object.prototype.hasOwnProperty.call(output.data, EXEC_MIME_TYPE))) {\n",
              "      return\n",
              "    }\n",
              "\n",
              "    const toinsert = output_area.element.find(\".\" + CLASS_NAME.split(' ')[0]);\n",
              "\n",
              "    if (output.metadata[EXEC_MIME_TYPE][\"id\"] !== undefined) {\n",
              "      toinsert[toinsert.length - 1].firstChild.textContent = output.data[JS_MIME_TYPE];\n",
              "      // store reference to embed id on output_area\n",
              "      output_area._bokeh_element_id = output.metadata[EXEC_MIME_TYPE][\"id\"];\n",
              "    }\n",
              "    if (output.metadata[EXEC_MIME_TYPE][\"server_id\"] !== undefined) {\n",
              "      const bk_div = document.createElement(\"div\");\n",
              "      bk_div.innerHTML = output.data[HTML_MIME_TYPE];\n",
              "      const script_attrs = bk_div.children[0].attributes;\n",
              "      for (let i = 0; i < script_attrs.length; i++) {\n",
              "        toinsert[toinsert.length - 1].firstChild.setAttribute(script_attrs[i].name, script_attrs[i].value);\n",
              "        toinsert[toinsert.length - 1].firstChild.textContent = bk_div.children[0].textContent\n",
              "      }\n",
              "      // store reference to server id on output_area\n",
              "      output_area._bokeh_server_id = output.metadata[EXEC_MIME_TYPE][\"server_id\"];\n",
              "    }\n",
              "  }\n",
              "\n",
              "  function register_renderer(events, OutputArea) {\n",
              "\n",
              "    function append_mime(data, metadata, element) {\n",
              "      // create a DOM node to render to\n",
              "      const toinsert = this.create_output_subarea(\n",
              "        metadata,\n",
              "        CLASS_NAME,\n",
              "        EXEC_MIME_TYPE\n",
              "      );\n",
              "      this.keyboard_manager.register_events(toinsert);\n",
              "      // Render to node\n",
              "      const props = {data: data, metadata: metadata[EXEC_MIME_TYPE]};\n",
              "      render(props, toinsert[toinsert.length - 1]);\n",
              "      element.append(toinsert);\n",
              "      return toinsert\n",
              "    }\n",
              "\n",
              "    /* Handle when an output is cleared or removed */\n",
              "    events.on('clear_output.CodeCell', handleClearOutput);\n",
              "    events.on('delete.Cell', handleClearOutput);\n",
              "\n",
              "    /* Handle when a new output is added */\n",
              "    events.on('output_added.OutputArea', handleAddOutput);\n",
              "\n",
              "    /**\n",
              "     * Register the mime type and append_mime function with output_area\n",
              "     */\n",
              "    OutputArea.prototype.register_mime_type(EXEC_MIME_TYPE, append_mime, {\n",
              "      /* Is output safe? */\n",
              "      safe: true,\n",
              "      /* Index of renderer in `output_area.display_order` */\n",
              "      index: 0\n",
              "    });\n",
              "  }\n",
              "\n",
              "  // register the mime type if in Jupyter Notebook environment and previously unregistered\n",
              "  if (root.Jupyter !== undefined) {\n",
              "    const events = require('base/js/events');\n",
              "    const OutputArea = require('notebook/js/outputarea').OutputArea;\n",
              "\n",
              "    if (OutputArea.prototype.mime_types().indexOf(EXEC_MIME_TYPE) == -1) {\n",
              "      register_renderer(events, OutputArea);\n",
              "    }\n",
              "  }\n",
              "  if (typeof (root._bokeh_timeout) === \"undefined\" || force === true) {\n",
              "    root._bokeh_timeout = Date.now() + 5000;\n",
              "    root._bokeh_failed_load = false;\n",
              "  }\n",
              "\n",
              "  const NB_LOAD_WARNING = {'data': {'text/html':\n",
              "     \"<div style='background-color: #fdd'>\\n\"+\n",
              "     \"<p>\\n\"+\n",
              "     \"BokehJS does not appear to have successfully loaded. If loading BokehJS from CDN, this \\n\"+\n",
              "     \"may be due to a slow or bad network connection. Possible fixes:\\n\"+\n",
              "     \"</p>\\n\"+\n",
              "     \"<ul>\\n\"+\n",
              "     \"<li>re-rerun `output_notebook()` to attempt to load from CDN again, or</li>\\n\"+\n",
              "     \"<li>use INLINE resources instead, as so:</li>\\n\"+\n",
              "     \"</ul>\\n\"+\n",
              "     \"<code>\\n\"+\n",
              "     \"from bokeh.resources import INLINE\\n\"+\n",
              "     \"output_notebook(resources=INLINE)\\n\"+\n",
              "     \"</code>\\n\"+\n",
              "     \"</div>\"}};\n",
              "\n",
              "  function display_loaded() {\n",
              "    const el = document.getElementById(null);\n",
              "    if (el != null) {\n",
              "      el.textContent = \"BokehJS is loading...\";\n",
              "    }\n",
              "    if (root.Bokeh !== undefined) {\n",
              "      if (el != null) {\n",
              "        el.textContent = \"BokehJS \" + root.Bokeh.version + \" successfully loaded.\";\n",
              "      }\n",
              "    } else if (Date.now() < root._bokeh_timeout) {\n",
              "      setTimeout(display_loaded, 100)\n",
              "    }\n",
              "  }\n",
              "\n",
              "  function run_callbacks() {\n",
              "    try {\n",
              "      root._bokeh_onload_callbacks.forEach(function(callback) {\n",
              "        if (callback != null)\n",
              "          callback();\n",
              "      });\n",
              "    } finally {\n",
              "      delete root._bokeh_onload_callbacks\n",
              "    }\n",
              "    console.debug(\"Bokeh: all callbacks have finished\");\n",
              "  }\n",
              "\n",
              "  function load_libs(css_urls, js_urls, callback) {\n",
              "    if (css_urls == null) css_urls = [];\n",
              "    if (js_urls == null) js_urls = [];\n",
              "\n",
              "    root._bokeh_onload_callbacks.push(callback);\n",
              "    if (root._bokeh_is_loading > 0) {\n",
              "      console.debug(\"Bokeh: BokehJS is being loaded, scheduling callback at\", now());\n",
              "      return null;\n",
              "    }\n",
              "    if (js_urls == null || js_urls.length === 0) {\n",
              "      run_callbacks();\n",
              "      return null;\n",
              "    }\n",
              "    console.debug(\"Bokeh: BokehJS not loaded, scheduling load and callback at\", now());\n",
              "    root._bokeh_is_loading = css_urls.length + js_urls.length;\n",
              "\n",
              "    function on_load() {\n",
              "      root._bokeh_is_loading--;\n",
              "      if (root._bokeh_is_loading === 0) {\n",
              "        console.debug(\"Bokeh: all BokehJS libraries/stylesheets loaded\");\n",
              "        run_callbacks()\n",
              "      }\n",
              "    }\n",
              "\n",
              "    function on_error(url) {\n",
              "      console.error(\"failed to load \" + url);\n",
              "    }\n",
              "\n",
              "    for (let i = 0; i < css_urls.length; i++) {\n",
              "      const url = css_urls[i];\n",
              "      const element = document.createElement(\"link\");\n",
              "      element.onload = on_load;\n",
              "      element.onerror = on_error.bind(null, url);\n",
              "      element.rel = \"stylesheet\";\n",
              "      element.type = \"text/css\";\n",
              "      element.href = url;\n",
              "      console.debug(\"Bokeh: injecting link tag for BokehJS stylesheet: \", url);\n",
              "      document.body.appendChild(element);\n",
              "    }\n",
              "\n",
              "    for (let i = 0; i < js_urls.length; i++) {\n",
              "      const url = js_urls[i];\n",
              "      const element = document.createElement('script');\n",
              "      element.onload = on_load;\n",
              "      element.onerror = on_error.bind(null, url);\n",
              "      element.async = false;\n",
              "      element.src = url;\n",
              "      console.debug(\"Bokeh: injecting script tag for BokehJS library: \", url);\n",
              "      document.head.appendChild(element);\n",
              "    }\n",
              "  };\n",
              "\n",
              "  function inject_raw_css(css) {\n",
              "    const element = document.createElement(\"style\");\n",
              "    element.appendChild(document.createTextNode(css));\n",
              "    document.body.appendChild(element);\n",
              "  }\n",
              "\n",
              "  const js_urls = [\"https://cdn.bokeh.org/bokeh/release/bokeh-3.3.4.min.js\", \"https://cdn.bokeh.org/bokeh/release/bokeh-gl-3.3.4.min.js\", \"https://cdn.bokeh.org/bokeh/release/bokeh-widgets-3.3.4.min.js\", \"https://cdn.bokeh.org/bokeh/release/bokeh-tables-3.3.4.min.js\", \"https://cdn.bokeh.org/bokeh/release/bokeh-mathjax-3.3.4.min.js\"];\n",
              "  const css_urls = [];\n",
              "\n",
              "  const inline_js = [    function(Bokeh) {\n",
              "      Bokeh.set_log_level(\"info\");\n",
              "    },\n",
              "function(Bokeh) {\n",
              "    }\n",
              "  ];\n",
              "\n",
              "  function run_inline_js() {\n",
              "    if (root.Bokeh !== undefined || force === true) {\n",
              "          for (let i = 0; i < inline_js.length; i++) {\n",
              "      inline_js[i].call(root, root.Bokeh);\n",
              "    }\n",
              "} else if (Date.now() < root._bokeh_timeout) {\n",
              "      setTimeout(run_inline_js, 100);\n",
              "    } else if (!root._bokeh_failed_load) {\n",
              "      console.log(\"Bokeh: BokehJS failed to load within specified timeout.\");\n",
              "      root._bokeh_failed_load = true;\n",
              "    } else if (force !== true) {\n",
              "      const cell = $(document.getElementById(null)).parents('.cell').data().cell;\n",
              "      cell.output_area.append_execute_result(NB_LOAD_WARNING)\n",
              "    }\n",
              "  }\n",
              "\n",
              "  if (root._bokeh_is_loading === 0) {\n",
              "    console.debug(\"Bokeh: BokehJS loaded, going straight to plotting\");\n",
              "    run_inline_js();\n",
              "  } else {\n",
              "    load_libs(css_urls, js_urls, function() {\n",
              "      console.debug(\"Bokeh: BokehJS plotting callback run at\", now());\n",
              "      run_inline_js();\n",
              "    });\n",
              "  }\n",
              "}(window));"
            ],
            "application/vnd.bokehjs_load.v0+json": "(function(root) {\n  function now() {\n    return new Date();\n  }\n\n  const force = true;\n\n  if (typeof root._bokeh_onload_callbacks === \"undefined\" || force === true) {\n    root._bokeh_onload_callbacks = [];\n    root._bokeh_is_loading = undefined;\n  }\n\n\n  if (typeof (root._bokeh_timeout) === \"undefined\" || force === true) {\n    root._bokeh_timeout = Date.now() + 5000;\n    root._bokeh_failed_load = false;\n  }\n\n  const NB_LOAD_WARNING = {'data': {'text/html':\n     \"<div style='background-color: #fdd'>\\n\"+\n     \"<p>\\n\"+\n     \"BokehJS does not appear to have successfully loaded. If loading BokehJS from CDN, this \\n\"+\n     \"may be due to a slow or bad network connection. Possible fixes:\\n\"+\n     \"</p>\\n\"+\n     \"<ul>\\n\"+\n     \"<li>re-rerun `output_notebook()` to attempt to load from CDN again, or</li>\\n\"+\n     \"<li>use INLINE resources instead, as so:</li>\\n\"+\n     \"</ul>\\n\"+\n     \"<code>\\n\"+\n     \"from bokeh.resources import INLINE\\n\"+\n     \"output_notebook(resources=INLINE)\\n\"+\n     \"</code>\\n\"+\n     \"</div>\"}};\n\n  function display_loaded() {\n    const el = document.getElementById(null);\n    if (el != null) {\n      el.textContent = \"BokehJS is loading...\";\n    }\n    if (root.Bokeh !== undefined) {\n      if (el != null) {\n        el.textContent = \"BokehJS \" + root.Bokeh.version + \" successfully loaded.\";\n      }\n    } else if (Date.now() < root._bokeh_timeout) {\n      setTimeout(display_loaded, 100)\n    }\n  }\n\n  function run_callbacks() {\n    try {\n      root._bokeh_onload_callbacks.forEach(function(callback) {\n        if (callback != null)\n          callback();\n      });\n    } finally {\n      delete root._bokeh_onload_callbacks\n    }\n    console.debug(\"Bokeh: all callbacks have finished\");\n  }\n\n  function load_libs(css_urls, js_urls, callback) {\n    if (css_urls == null) css_urls = [];\n    if (js_urls == null) js_urls = [];\n\n    root._bokeh_onload_callbacks.push(callback);\n    if (root._bokeh_is_loading > 0) {\n      console.debug(\"Bokeh: BokehJS is being loaded, scheduling callback at\", now());\n      return null;\n    }\n    if (js_urls == null || js_urls.length === 0) {\n      run_callbacks();\n      return null;\n    }\n    console.debug(\"Bokeh: BokehJS not loaded, scheduling load and callback at\", now());\n    root._bokeh_is_loading = css_urls.length + js_urls.length;\n\n    function on_load() {\n      root._bokeh_is_loading--;\n      if (root._bokeh_is_loading === 0) {\n        console.debug(\"Bokeh: all BokehJS libraries/stylesheets loaded\");\n        run_callbacks()\n      }\n    }\n\n    function on_error(url) {\n      console.error(\"failed to load \" + url);\n    }\n\n    for (let i = 0; i < css_urls.length; i++) {\n      const url = css_urls[i];\n      const element = document.createElement(\"link\");\n      element.onload = on_load;\n      element.onerror = on_error.bind(null, url);\n      element.rel = \"stylesheet\";\n      element.type = \"text/css\";\n      element.href = url;\n      console.debug(\"Bokeh: injecting link tag for BokehJS stylesheet: \", url);\n      document.body.appendChild(element);\n    }\n\n    for (let i = 0; i < js_urls.length; i++) {\n      const url = js_urls[i];\n      const element = document.createElement('script');\n      element.onload = on_load;\n      element.onerror = on_error.bind(null, url);\n      element.async = false;\n      element.src = url;\n      console.debug(\"Bokeh: injecting script tag for BokehJS library: \", url);\n      document.head.appendChild(element);\n    }\n  };\n\n  function inject_raw_css(css) {\n    const element = document.createElement(\"style\");\n    element.appendChild(document.createTextNode(css));\n    document.body.appendChild(element);\n  }\n\n  const js_urls = [\"https://cdn.bokeh.org/bokeh/release/bokeh-3.3.4.min.js\", \"https://cdn.bokeh.org/bokeh/release/bokeh-gl-3.3.4.min.js\", \"https://cdn.bokeh.org/bokeh/release/bokeh-widgets-3.3.4.min.js\", \"https://cdn.bokeh.org/bokeh/release/bokeh-tables-3.3.4.min.js\", \"https://cdn.bokeh.org/bokeh/release/bokeh-mathjax-3.3.4.min.js\"];\n  const css_urls = [];\n\n  const inline_js = [    function(Bokeh) {\n      Bokeh.set_log_level(\"info\");\n    },\nfunction(Bokeh) {\n    }\n  ];\n\n  function run_inline_js() {\n    if (root.Bokeh !== undefined || force === true) {\n          for (let i = 0; i < inline_js.length; i++) {\n      inline_js[i].call(root, root.Bokeh);\n    }\n} else if (Date.now() < root._bokeh_timeout) {\n      setTimeout(run_inline_js, 100);\n    } else if (!root._bokeh_failed_load) {\n      console.log(\"Bokeh: BokehJS failed to load within specified timeout.\");\n      root._bokeh_failed_load = true;\n    } else if (force !== true) {\n      const cell = $(document.getElementById(null)).parents('.cell').data().cell;\n      cell.output_area.append_execute_result(NB_LOAD_WARNING)\n    }\n  }\n\n  if (root._bokeh_is_loading === 0) {\n    console.debug(\"Bokeh: BokehJS loaded, going straight to plotting\");\n    run_inline_js();\n  } else {\n    load_libs(css_urls, js_urls, function() {\n      console.debug(\"Bokeh: BokehJS plotting callback run at\", now());\n      run_inline_js();\n    });\n  }\n}(window));"
          },
          "metadata": {}
        },
        {
          "output_type": "display_data",
          "data": {
            "text/html": [
              "\n",
              "  <div id=\"feff0bf6-7f66-485f-8286-1304de022bbe\" data-root-id=\"p1189\" style=\"display: contents;\"></div>\n"
            ]
          },
          "metadata": {}
        },
        {
          "output_type": "display_data",
          "data": {
            "application/javascript": [
              "(function(root) {\n",
              "  function embed_document(root) {\n",
              "  const docs_json = {\"844c1c6e-e98a-47c4-bfa3-c77315107215\":{\"version\":\"3.3.4\",\"title\":\"Bokeh Application\",\"roots\":[{\"type\":\"object\",\"name\":\"Figure\",\"id\":\"p1189\",\"attributes\":{\"width\":750,\"height\":500,\"x_range\":{\"type\":\"object\",\"name\":\"DataRange1d\",\"id\":\"p1190\"},\"y_range\":{\"type\":\"object\",\"name\":\"DataRange1d\",\"id\":\"p1191\"},\"x_scale\":{\"type\":\"object\",\"name\":\"LinearScale\",\"id\":\"p1199\"},\"y_scale\":{\"type\":\"object\",\"name\":\"LinearScale\",\"id\":\"p1200\"},\"title\":{\"type\":\"object\",\"name\":\"Title\",\"id\":\"p1192\",\"attributes\":{\"text\":\"t-SNE Clustering of 5 LDA Topics\"}},\"renderers\":[{\"type\":\"object\",\"name\":\"GlyphRenderer\",\"id\":\"p1228\",\"attributes\":{\"data_source\":{\"type\":\"object\",\"name\":\"ColumnDataSource\",\"id\":\"p1222\",\"attributes\":{\"selected\":{\"type\":\"object\",\"name\":\"Selection\",\"id\":\"p1223\",\"attributes\":{\"indices\":[],\"line_indices\":[]}},\"selection_policy\":{\"type\":\"object\",\"name\":\"UnionRenderers\",\"id\":\"p1224\"},\"data\":{\"type\":\"map\",\"entries\":[[\"x\",{\"type\":\"ndarray\",\"array\":{\"type\":\"bytes\",\"data\":\"vAe1QChsq0CBfKtAFZ2rQHcxlUC7B7VAiAW1QL5kq0A=\"},\"shape\":[8],\"dtype\":\"float32\",\"order\":\"little\"}],[\"y\",{\"type\":\"ndarray\",\"array\":{\"type\":\"bytes\",\"data\":\"1Y3WP8MGxz+0IMc/X2TGP/MT7T/UjdY/iDTWPz1ixz8=\"},\"shape\":[8],\"dtype\":\"float32\",\"order\":\"little\"}]]}}},\"view\":{\"type\":\"object\",\"name\":\"CDSView\",\"id\":\"p1229\",\"attributes\":{\"filter\":{\"type\":\"object\",\"name\":\"AllIndices\",\"id\":\"p1230\"}}},\"glyph\":{\"type\":\"object\",\"name\":\"Scatter\",\"id\":\"p1225\",\"attributes\":{\"x\":{\"type\":\"field\",\"field\":\"x\"},\"y\":{\"type\":\"field\",\"field\":\"y\"},\"line_color\":{\"type\":\"value\",\"value\":\"#1f77b4\"},\"fill_color\":{\"type\":\"value\",\"value\":\"#1f77b4\"},\"hatch_color\":{\"type\":\"value\",\"value\":\"#1f77b4\"}}},\"nonselection_glyph\":{\"type\":\"object\",\"name\":\"Scatter\",\"id\":\"p1226\",\"attributes\":{\"x\":{\"type\":\"field\",\"field\":\"x\"},\"y\":{\"type\":\"field\",\"field\":\"y\"},\"line_color\":{\"type\":\"value\",\"value\":\"#1f77b4\"},\"line_alpha\":{\"type\":\"value\",\"value\":0.1},\"fill_color\":{\"type\":\"value\",\"value\":\"#1f77b4\"},\"fill_alpha\":{\"type\":\"value\",\"value\":0.1},\"hatch_color\":{\"type\":\"value\",\"value\":\"#1f77b4\"},\"hatch_alpha\":{\"type\":\"value\",\"value\":0.1}}},\"muted_glyph\":{\"type\":\"object\",\"name\":\"Scatter\",\"id\":\"p1227\",\"attributes\":{\"x\":{\"type\":\"field\",\"field\":\"x\"},\"y\":{\"type\":\"field\",\"field\":\"y\"},\"line_color\":{\"type\":\"value\",\"value\":\"#1f77b4\"},\"line_alpha\":{\"type\":\"value\",\"value\":0.2},\"fill_color\":{\"type\":\"value\",\"value\":\"#1f77b4\"},\"fill_alpha\":{\"type\":\"value\",\"value\":0.2},\"hatch_color\":{\"type\":\"value\",\"value\":\"#1f77b4\"},\"hatch_alpha\":{\"type\":\"value\",\"value\":0.2}}}}},{\"type\":\"object\",\"name\":\"GlyphRenderer\",\"id\":\"p1239\",\"attributes\":{\"data_source\":{\"type\":\"object\",\"name\":\"ColumnDataSource\",\"id\":\"p1233\",\"attributes\":{\"selected\":{\"type\":\"object\",\"name\":\"Selection\",\"id\":\"p1234\",\"attributes\":{\"indices\":[],\"line_indices\":[]}},\"selection_policy\":{\"type\":\"object\",\"name\":\"UnionRenderers\",\"id\":\"p1235\"},\"data\":{\"type\":\"map\",\"entries\":[[\"x\",{\"type\":\"ndarray\",\"array\":{\"type\":\"bytes\",\"data\":\"Fw5FQKqLKUCQ7DxAJ7lUQDqTJEC4QiRACUyLQNCVJ0BmmyJAFQIkQHiMRUAZQDxAg31CQM8oTkCSflRAegZAQH+Ki0CKbUNAxS2MQI4ITkDbT0NAXWQ+QA==\"},\"shape\":[22],\"dtype\":\"float32\",\"order\":\"little\"}],[\"y\",{\"type\":\"ndarray\",\"array\":{\"type\":\"bytes\",\"data\":\"H+0RQN7RO0AwWzxApagjQM+2KEAxyyNAjI/4P13kLkCH+SJAcuAjQGThEkCcUT1AhEUPQOI9IECnYSJA9LE+QDAX9z8YSxFAqD33P48ZIEANTRFAPDc/QA==\"},\"shape\":[22],\"dtype\":\"float32\",\"order\":\"little\"}]]}}},\"view\":{\"type\":\"object\",\"name\":\"CDSView\",\"id\":\"p1240\",\"attributes\":{\"filter\":{\"type\":\"object\",\"name\":\"AllIndices\",\"id\":\"p1241\"}}},\"glyph\":{\"type\":\"object\",\"name\":\"Scatter\",\"id\":\"p1236\",\"attributes\":{\"x\":{\"type\":\"field\",\"field\":\"x\"},\"y\":{\"type\":\"field\",\"field\":\"y\"},\"line_color\":{\"type\":\"value\",\"value\":\"#ff7f0e\"},\"fill_color\":{\"type\":\"value\",\"value\":\"#ff7f0e\"},\"hatch_color\":{\"type\":\"value\",\"value\":\"#ff7f0e\"}}},\"nonselection_glyph\":{\"type\":\"object\",\"name\":\"Scatter\",\"id\":\"p1237\",\"attributes\":{\"x\":{\"type\":\"field\",\"field\":\"x\"},\"y\":{\"type\":\"field\",\"field\":\"y\"},\"line_color\":{\"type\":\"value\",\"value\":\"#ff7f0e\"},\"line_alpha\":{\"type\":\"value\",\"value\":0.1},\"fill_color\":{\"type\":\"value\",\"value\":\"#ff7f0e\"},\"fill_alpha\":{\"type\":\"value\",\"value\":0.1},\"hatch_color\":{\"type\":\"value\",\"value\":\"#ff7f0e\"},\"hatch_alpha\":{\"type\":\"value\",\"value\":0.1}}},\"muted_glyph\":{\"type\":\"object\",\"name\":\"Scatter\",\"id\":\"p1238\",\"attributes\":{\"x\":{\"type\":\"field\",\"field\":\"x\"},\"y\":{\"type\":\"field\",\"field\":\"y\"},\"line_color\":{\"type\":\"value\",\"value\":\"#ff7f0e\"},\"line_alpha\":{\"type\":\"value\",\"value\":0.2},\"fill_color\":{\"type\":\"value\",\"value\":\"#ff7f0e\"},\"fill_alpha\":{\"type\":\"value\",\"value\":0.2},\"hatch_color\":{\"type\":\"value\",\"value\":\"#ff7f0e\"},\"hatch_alpha\":{\"type\":\"value\",\"value\":0.2}}}}},{\"type\":\"object\",\"name\":\"GlyphRenderer\",\"id\":\"p1249\",\"attributes\":{\"data_source\":{\"type\":\"object\",\"name\":\"ColumnDataSource\",\"id\":\"p1243\",\"attributes\":{\"selected\":{\"type\":\"object\",\"name\":\"Selection\",\"id\":\"p1244\",\"attributes\":{\"indices\":[],\"line_indices\":[]}},\"selection_policy\":{\"type\":\"object\",\"name\":\"UnionRenderers\",\"id\":\"p1245\"},\"data\":{\"type\":\"map\",\"entries\":[[\"x\",{\"type\":\"ndarray\",\"array\":{\"type\":\"bytes\",\"data\":\"QjRGQAIGRUCkcW5A949NQNsGM0DWiUZA949NQNaJRkA+0EdA949NQC+JRUCeUkdAP9QuQN6eNEDglyxA949NQMKxM0BFTIBA\"},\"shape\":[18],\"dtype\":\"float32\",\"order\":\"little\"}],[\"y\",{\"type\":\"ndarray\",\"array\":{\"type\":\"bytes\",\"data\":\"fYs1wMtmFcDZggXA48gbwAlEM8DxARbA48gbwPEBFsBxkhbA48gbwPs/NcD7jhbAsYEuwNTpOsBFeTzA48gbwOZxKsBxFb+/\"},\"shape\":[18],\"dtype\":\"float32\",\"order\":\"little\"}]]}}},\"view\":{\"type\":\"object\",\"name\":\"CDSView\",\"id\":\"p1250\",\"attributes\":{\"filter\":{\"type\":\"object\",\"name\":\"AllIndices\",\"id\":\"p1251\"}}},\"glyph\":{\"type\":\"object\",\"name\":\"Scatter\",\"id\":\"p1246\",\"attributes\":{\"x\":{\"type\":\"field\",\"field\":\"x\"},\"y\":{\"type\":\"field\",\"field\":\"y\"},\"line_color\":{\"type\":\"value\",\"value\":\"#2ca02c\"},\"fill_color\":{\"type\":\"value\",\"value\":\"#2ca02c\"},\"hatch_color\":{\"type\":\"value\",\"value\":\"#2ca02c\"}}},\"nonselection_glyph\":{\"type\":\"object\",\"name\":\"Scatter\",\"id\":\"p1247\",\"attributes\":{\"x\":{\"type\":\"field\",\"field\":\"x\"},\"y\":{\"type\":\"field\",\"field\":\"y\"},\"line_color\":{\"type\":\"value\",\"value\":\"#2ca02c\"},\"line_alpha\":{\"type\":\"value\",\"value\":0.1},\"fill_color\":{\"type\":\"value\",\"value\":\"#2ca02c\"},\"fill_alpha\":{\"type\":\"value\",\"value\":0.1},\"hatch_color\":{\"type\":\"value\",\"value\":\"#2ca02c\"},\"hatch_alpha\":{\"type\":\"value\",\"value\":0.1}}},\"muted_glyph\":{\"type\":\"object\",\"name\":\"Scatter\",\"id\":\"p1248\",\"attributes\":{\"x\":{\"type\":\"field\",\"field\":\"x\"},\"y\":{\"type\":\"field\",\"field\":\"y\"},\"line_color\":{\"type\":\"value\",\"value\":\"#2ca02c\"},\"line_alpha\":{\"type\":\"value\",\"value\":0.2},\"fill_color\":{\"type\":\"value\",\"value\":\"#2ca02c\"},\"fill_alpha\":{\"type\":\"value\",\"value\":0.2},\"hatch_color\":{\"type\":\"value\",\"value\":\"#2ca02c\"},\"hatch_alpha\":{\"type\":\"value\",\"value\":0.2}}}}},{\"type\":\"object\",\"name\":\"GlyphRenderer\",\"id\":\"p1259\",\"attributes\":{\"data_source\":{\"type\":\"object\",\"name\":\"ColumnDataSource\",\"id\":\"p1253\",\"attributes\":{\"selected\":{\"type\":\"object\",\"name\":\"Selection\",\"id\":\"p1254\",\"attributes\":{\"indices\":[],\"line_indices\":[]}},\"selection_policy\":{\"type\":\"object\",\"name\":\"UnionRenderers\",\"id\":\"p1255\"},\"data\":{\"type\":\"map\",\"entries\":[[\"x\",{\"type\":\"ndarray\",\"array\":{\"type\":\"bytes\",\"data\":\"WnmbQFp5m0BaeZtAWnmbQFl5m0BZeZtA\"},\"shape\":[6],\"dtype\":\"float32\",\"order\":\"little\"}],[\"y\",{\"type\":\"ndarray\",\"array\":{\"type\":\"bytes\",\"data\":\"mfkqv5j5Kr+Y+Sq/mPkqv5P5Kr+T+Sq/\"},\"shape\":[6],\"dtype\":\"float32\",\"order\":\"little\"}]]}}},\"view\":{\"type\":\"object\",\"name\":\"CDSView\",\"id\":\"p1260\",\"attributes\":{\"filter\":{\"type\":\"object\",\"name\":\"AllIndices\",\"id\":\"p1261\"}}},\"glyph\":{\"type\":\"object\",\"name\":\"Scatter\",\"id\":\"p1256\",\"attributes\":{\"x\":{\"type\":\"field\",\"field\":\"x\"},\"y\":{\"type\":\"field\",\"field\":\"y\"},\"line_color\":{\"type\":\"value\",\"value\":\"#d62728\"},\"fill_color\":{\"type\":\"value\",\"value\":\"#d62728\"},\"hatch_color\":{\"type\":\"value\",\"value\":\"#d62728\"}}},\"nonselection_glyph\":{\"type\":\"object\",\"name\":\"Scatter\",\"id\":\"p1257\",\"attributes\":{\"x\":{\"type\":\"field\",\"field\":\"x\"},\"y\":{\"type\":\"field\",\"field\":\"y\"},\"line_color\":{\"type\":\"value\",\"value\":\"#d62728\"},\"line_alpha\":{\"type\":\"value\",\"value\":0.1},\"fill_color\":{\"type\":\"value\",\"value\":\"#d62728\"},\"fill_alpha\":{\"type\":\"value\",\"value\":0.1},\"hatch_color\":{\"type\":\"value\",\"value\":\"#d62728\"},\"hatch_alpha\":{\"type\":\"value\",\"value\":0.1}}},\"muted_glyph\":{\"type\":\"object\",\"name\":\"Scatter\",\"id\":\"p1258\",\"attributes\":{\"x\":{\"type\":\"field\",\"field\":\"x\"},\"y\":{\"type\":\"field\",\"field\":\"y\"},\"line_color\":{\"type\":\"value\",\"value\":\"#d62728\"},\"line_alpha\":{\"type\":\"value\",\"value\":0.2},\"fill_color\":{\"type\":\"value\",\"value\":\"#d62728\"},\"fill_alpha\":{\"type\":\"value\",\"value\":0.2},\"hatch_color\":{\"type\":\"value\",\"value\":\"#d62728\"},\"hatch_alpha\":{\"type\":\"value\",\"value\":0.2}}}}},{\"type\":\"object\",\"name\":\"GlyphRenderer\",\"id\":\"p1269\",\"attributes\":{\"data_source\":{\"type\":\"object\",\"name\":\"ColumnDataSource\",\"id\":\"p1263\",\"attributes\":{\"selected\":{\"type\":\"object\",\"name\":\"Selection\",\"id\":\"p1264\",\"attributes\":{\"indices\":[],\"line_indices\":[]}},\"selection_policy\":{\"type\":\"object\",\"name\":\"UnionRenderers\",\"id\":\"p1265\"},\"data\":{\"type\":\"map\",\"entries\":[[\"x\",{\"type\":\"ndarray\",\"array\":{\"type\":\"bytes\",\"data\":\"bezoQCxtAkGVTwRBDHvpQFJ36EBwL8JAZFf7QG2+A0EWX9dA9froQE6f6UANJOpAEy7lQPEdBUGWtflAWDQEQX+QAEFzPPpALvcAQSDjA0GniwVBPlr7QGjL6EA=\"},\"shape\":[23],\"dtype\":\"float32\",\"order\":\"little\"}],[\"y\",{\"type\":\"ndarray\",\"array\":{\"type\":\"bytes\",\"data\":\"ucswvwFvkb8H6jO/14wmv2h+KL/PgyO/ZGD/vp40lL8OCTa/KdYev6l0HL9cUR6/vfAyvlIjSL9ozYm/uSIvvzIrlL+vWIS/9tiWvys4R7988YC/XogHvwSnLL8=\"},\"shape\":[23],\"dtype\":\"float32\",\"order\":\"little\"}]]}}},\"view\":{\"type\":\"object\",\"name\":\"CDSView\",\"id\":\"p1270\",\"attributes\":{\"filter\":{\"type\":\"object\",\"name\":\"AllIndices\",\"id\":\"p1271\"}}},\"glyph\":{\"type\":\"object\",\"name\":\"Scatter\",\"id\":\"p1266\",\"attributes\":{\"x\":{\"type\":\"field\",\"field\":\"x\"},\"y\":{\"type\":\"field\",\"field\":\"y\"},\"line_color\":{\"type\":\"value\",\"value\":\"#9467bd\"},\"fill_color\":{\"type\":\"value\",\"value\":\"#9467bd\"},\"hatch_color\":{\"type\":\"value\",\"value\":\"#9467bd\"}}},\"nonselection_glyph\":{\"type\":\"object\",\"name\":\"Scatter\",\"id\":\"p1267\",\"attributes\":{\"x\":{\"type\":\"field\",\"field\":\"x\"},\"y\":{\"type\":\"field\",\"field\":\"y\"},\"line_color\":{\"type\":\"value\",\"value\":\"#9467bd\"},\"line_alpha\":{\"type\":\"value\",\"value\":0.1},\"fill_color\":{\"type\":\"value\",\"value\":\"#9467bd\"},\"fill_alpha\":{\"type\":\"value\",\"value\":0.1},\"hatch_color\":{\"type\":\"value\",\"value\":\"#9467bd\"},\"hatch_alpha\":{\"type\":\"value\",\"value\":0.1}}},\"muted_glyph\":{\"type\":\"object\",\"name\":\"Scatter\",\"id\":\"p1268\",\"attributes\":{\"x\":{\"type\":\"field\",\"field\":\"x\"},\"y\":{\"type\":\"field\",\"field\":\"y\"},\"line_color\":{\"type\":\"value\",\"value\":\"#9467bd\"},\"line_alpha\":{\"type\":\"value\",\"value\":0.2},\"fill_color\":{\"type\":\"value\",\"value\":\"#9467bd\"},\"fill_alpha\":{\"type\":\"value\",\"value\":0.2},\"hatch_color\":{\"type\":\"value\",\"value\":\"#9467bd\"},\"hatch_alpha\":{\"type\":\"value\",\"value\":0.2}}}}}],\"toolbar\":{\"type\":\"object\",\"name\":\"Toolbar\",\"id\":\"p1198\",\"attributes\":{\"tools\":[{\"type\":\"object\",\"name\":\"PanTool\",\"id\":\"p1211\"},{\"type\":\"object\",\"name\":\"WheelZoomTool\",\"id\":\"p1212\",\"attributes\":{\"renderers\":\"auto\"}},{\"type\":\"object\",\"name\":\"BoxZoomTool\",\"id\":\"p1213\",\"attributes\":{\"overlay\":{\"type\":\"object\",\"name\":\"BoxAnnotation\",\"id\":\"p1214\",\"attributes\":{\"syncable\":false,\"level\":\"overlay\",\"visible\":false,\"left\":{\"type\":\"number\",\"value\":\"nan\"},\"right\":{\"type\":\"number\",\"value\":\"nan\"},\"top\":{\"type\":\"number\",\"value\":\"nan\"},\"bottom\":{\"type\":\"number\",\"value\":\"nan\"},\"left_units\":\"canvas\",\"right_units\":\"canvas\",\"top_units\":\"canvas\",\"bottom_units\":\"canvas\",\"line_color\":\"black\",\"line_alpha\":1.0,\"line_width\":2,\"line_dash\":[4,4],\"fill_color\":\"lightgrey\",\"fill_alpha\":0.5}}}},{\"type\":\"object\",\"name\":\"SaveTool\",\"id\":\"p1219\"},{\"type\":\"object\",\"name\":\"ResetTool\",\"id\":\"p1220\"},{\"type\":\"object\",\"name\":\"HelpTool\",\"id\":\"p1221\"}]}},\"left\":[{\"type\":\"object\",\"name\":\"LinearAxis\",\"id\":\"p1206\",\"attributes\":{\"ticker\":{\"type\":\"object\",\"name\":\"BasicTicker\",\"id\":\"p1207\",\"attributes\":{\"mantissas\":[1,2,5]}},\"formatter\":{\"type\":\"object\",\"name\":\"BasicTickFormatter\",\"id\":\"p1208\"},\"major_label_policy\":{\"type\":\"object\",\"name\":\"AllLabels\",\"id\":\"p1209\"}}}],\"below\":[{\"type\":\"object\",\"name\":\"LinearAxis\",\"id\":\"p1201\",\"attributes\":{\"ticker\":{\"type\":\"object\",\"name\":\"BasicTicker\",\"id\":\"p1202\",\"attributes\":{\"mantissas\":[1,2,5]}},\"formatter\":{\"type\":\"object\",\"name\":\"BasicTickFormatter\",\"id\":\"p1203\"},\"major_label_policy\":{\"type\":\"object\",\"name\":\"AllLabels\",\"id\":\"p1204\"}}}],\"center\":[{\"type\":\"object\",\"name\":\"Grid\",\"id\":\"p1205\",\"attributes\":{\"axis\":{\"id\":\"p1201\"}}},{\"type\":\"object\",\"name\":\"Grid\",\"id\":\"p1210\",\"attributes\":{\"dimension\":1,\"axis\":{\"id\":\"p1206\"}}},{\"type\":\"object\",\"name\":\"Legend\",\"id\":\"p1231\",\"attributes\":{\"location\":\"bottom_right\",\"items\":[{\"type\":\"object\",\"name\":\"LegendItem\",\"id\":\"p1232\",\"attributes\":{\"label\":{\"type\":\"value\",\"value\":\"Topic 1\"},\"renderers\":[{\"id\":\"p1228\"}]}},{\"type\":\"object\",\"name\":\"LegendItem\",\"id\":\"p1242\",\"attributes\":{\"label\":{\"type\":\"value\",\"value\":\"Topic 2\"},\"renderers\":[{\"id\":\"p1239\"}]}},{\"type\":\"object\",\"name\":\"LegendItem\",\"id\":\"p1252\",\"attributes\":{\"label\":{\"type\":\"value\",\"value\":\"Topic 3\"},\"renderers\":[{\"id\":\"p1249\"}]}},{\"type\":\"object\",\"name\":\"LegendItem\",\"id\":\"p1262\",\"attributes\":{\"label\":{\"type\":\"value\",\"value\":\"Topic 4\"},\"renderers\":[{\"id\":\"p1259\"}]}},{\"type\":\"object\",\"name\":\"LegendItem\",\"id\":\"p1272\",\"attributes\":{\"label\":{\"type\":\"value\",\"value\":\"Topic 5\"},\"renderers\":[{\"id\":\"p1269\"}]}}]}}]}}]}};\n",
              "  const render_items = [{\"docid\":\"844c1c6e-e98a-47c4-bfa3-c77315107215\",\"roots\":{\"p1189\":\"feff0bf6-7f66-485f-8286-1304de022bbe\"},\"root_ids\":[\"p1189\"]}];\n",
              "  root.Bokeh.embed.embed_items_notebook(docs_json, render_items);\n",
              "  }\n",
              "  if (root.Bokeh !== undefined) {\n",
              "    embed_document(root);\n",
              "  } else {\n",
              "    let attempts = 0;\n",
              "    const timer = setInterval(function(root) {\n",
              "      if (root.Bokeh !== undefined) {\n",
              "        clearInterval(timer);\n",
              "        embed_document(root);\n",
              "      } else {\n",
              "        attempts++;\n",
              "        if (attempts > 100) {\n",
              "          clearInterval(timer);\n",
              "          console.log(\"Bokeh: ERROR: Unable to run BokehJS code because BokehJS library is missing\");\n",
              "        }\n",
              "      }\n",
              "    }, 10, root)\n",
              "  }\n",
              "})(window);"
            ],
            "application/vnd.bokehjs_exec.v0+json": ""
          },
          "metadata": {
            "application/vnd.bokehjs_exec.v0+json": {
              "id": "p1189"
            }
          }
        }
      ]
    },
    {
      "cell_type": "code",
      "source": [
        "# Visualize the topics\n",
        "pyLDAvis.enable_notebook()\n",
        "vis = gensimvis.prepare(lda_model, test_corpus, id2word)\n",
        "vis"
      ],
      "metadata": {
        "colab": {
          "base_uri": "https://localhost:8080/",
          "height": 861
        },
        "id": "tyK5ps87zsd1",
        "outputId": "e0d28695-452e-4347-d110-4ae8676410ea"
      },
      "execution_count": null,
      "outputs": [
        {
          "output_type": "execute_result",
          "data": {
            "text/plain": [
              "PreparedData(topic_coordinates=              x         y  topics  cluster       Freq\n",
              "topic                                                \n",
              "4      0.343504 -0.050091       1        1  42.877715\n",
              "0     -0.225257  0.182970       2        1  17.575690\n",
              "2     -0.067147 -0.312852       3        1  17.005651\n",
              "1     -0.200287 -0.030231       4        1  16.487098\n",
              "3      0.149186  0.210205       5        1   6.053845, topic_info=        Term       Freq      Total Category  logprob  loglift\n",
              "26       one   6.000000   6.000000  Default  30.0000  30.0000\n",
              "21    police  10.000000  10.000000  Default  29.0000  29.0000\n",
              "11      year  10.000000  10.000000  Default  28.0000  28.0000\n",
              "9   canadian   8.000000   8.000000  Default  27.0000  27.0000\n",
              "12       get  11.000000  11.000000  Default  26.0000  26.0000\n",
              "..       ...        ...        ...      ...      ...      ...\n",
              "5    rodrigo   0.044695   9.498742   Topic5  -5.6166  -2.5546\n",
              "11      year   0.043220  10.146945   Topic5  -5.6502  -2.6541\n",
              "21    police   0.043482  10.460792   Topic5  -5.6441  -2.6786\n",
              "12       get   0.043326  11.350039   Topic5  -5.6477  -2.7637\n",
              "8     ticket   0.046019  13.330973   Topic5  -5.5874  -2.8643\n",
              "\n",
              "[180 rows x 6 columns], token_table=      Topic      Freq            Term\n",
              "term                                 \n",
              "28        3  0.165128           april\n",
              "28        4  0.825642           april\n",
              "0         1  0.988457           arena\n",
              "9         3  1.022923        canadian\n",
              "23        3  1.019999             day\n",
              "13        2  1.054623          doesnt\n",
              "14        2  0.826396           fight\n",
              "15        2  0.826397             fly\n",
              "12        2  0.264316             get\n",
              "12        4  0.704843             get\n",
              "10        3  0.810782      government\n",
              "10        4  0.162156      government\n",
              "1         1  0.949911             gut\n",
              "2         1  0.926819      interested\n",
              "24        2  0.763845            life\n",
              "24        3  0.254615            life\n",
              "20        2  0.585693            like\n",
              "20        4  0.390462            like\n",
              "22        1  0.884657           march\n",
              "22        4  0.176931           march\n",
              "29        4  1.048635             new\n",
              "16        2  1.048857             nhl\n",
              "3         1  0.989962          olivia\n",
              "4         1  0.968050  olivia rodrigo\n",
              "26        5  1.015719             one\n",
              "17        2  0.865085      personally\n",
              "18        2  0.865085  personally fly\n",
              "19        2  0.971469           point\n",
              "21        3  0.955951          police\n",
              "5         1  0.947494         rodrigo\n",
              "6         1  0.949984      scotiabank\n",
              "7         1  0.972198         selling\n",
              "25        5  0.884444            star\n",
              "8         1  0.975173          ticket\n",
              "27        1  1.028821             two\n",
              "11        4  0.985518            year, R=30, lambda_step=0.01, plot_opts={'xlab': 'PC1', 'ylab': 'PC2'}, topic_order=[5, 1, 3, 2, 4])"
            ],
            "text/html": [
              "\n",
              "<link rel=\"stylesheet\" type=\"text/css\" href=\"https://cdn.jsdelivr.net/gh/bmabey/pyLDAvis@3.4.0/pyLDAvis/js/ldavis.v1.0.0.css\">\n",
              "\n",
              "\n",
              "<div id=\"ldavis_el18041371003376755365154771503\" style=\"background-color:white;\"></div>\n",
              "<script type=\"text/javascript\">\n",
              "\n",
              "var ldavis_el18041371003376755365154771503_data = {\"mdsDat\": {\"x\": [0.34350424758878906, -0.22525658744658575, -0.0671469272213256, -0.2002870565823731, 0.14918632366149562], \"y\": [-0.05009131601364329, 0.18296971795011127, -0.31285212660592804, -0.030231306220760975, 0.21020503089022127], \"topics\": [1, 2, 3, 4, 5], \"cluster\": [1, 1, 1, 1, 1], \"Freq\": [42.87771541171352, 17.575690114351566, 17.00565080614703, 16.487098446149357, 6.053845221638531]}, \"tinfo\": {\"Term\": [\"one\", \"police\", \"year\", \"canadian\", \"get\", \"star\", \"day\", \"new\", \"ticket\", \"olivia\", \"selling\", \"nhl\", \"april\", \"government\", \"point\", \"rodrigo\", \"olivia rodrigo\", \"doesnt\", \"fly\", \"fight\", \"like\", \"personally\", \"personally fly\", \"life\", \"interested\", \"arena\", \"scotiabank\", \"gut\", \"two\", \"march\", \"ticket\", \"olivia\", \"selling\", \"rodrigo\", \"olivia rodrigo\", \"interested\", \"arena\", \"scotiabank\", \"gut\", \"two\", \"march\", \"personally fly\", \"personally\", \"fight\", \"fly\", \"doesnt\", \"life\", \"point\", \"star\", \"like\", \"nhl\", \"government\", \"april\", \"new\", \"day\", \"one\", \"canadian\", \"year\", \"police\", \"get\", \"nhl\", \"point\", \"doesnt\", \"fly\", \"fight\", \"personally\", \"personally fly\", \"like\", \"life\", \"get\", \"star\", \"two\", \"gut\", \"scotiabank\", \"march\", \"april\", \"arena\", \"government\", \"interested\", \"one\", \"new\", \"day\", \"year\", \"canadian\", \"olivia rodrigo\", \"rodrigo\", \"police\", \"selling\", \"olivia\", \"ticket\", \"police\", \"canadian\", \"day\", \"government\", \"life\", \"april\", \"march\", \"personally fly\", \"personally\", \"fight\", \"fly\", \"doesnt\", \"point\", \"star\", \"two\", \"nhl\", \"like\", \"gut\", \"scotiabank\", \"arena\", \"interested\", \"new\", \"one\", \"year\", \"olivia rodrigo\", \"rodrigo\", \"get\", \"selling\", \"olivia\", \"ticket\", \"year\", \"new\", \"april\", \"get\", \"like\", \"government\", \"march\", \"personally fly\", \"personally\", \"fight\", \"fly\", \"life\", \"doesnt\", \"point\", \"star\", \"nhl\", \"two\", \"one\", \"scotiabank\", \"gut\", \"arena\", \"interested\", \"day\", \"canadian\", \"olivia rodrigo\", \"rodrigo\", \"police\", \"selling\", \"olivia\", \"ticket\", \"one\", \"star\", \"personally fly\", \"personally\", \"fight\", \"fly\", \"doesnt\", \"life\", \"point\", \"nhl\", \"two\", \"like\", \"scotiabank\", \"gut\", \"march\", \"interested\", \"arena\", \"april\", \"government\", \"new\", \"day\", \"canadian\", \"olivia\", \"selling\", \"olivia rodrigo\", \"rodrigo\", \"year\", \"police\", \"get\", \"ticket\"], \"Freq\": [6.0, 10.0, 10.0, 8.0, 11.0, 4.0, 6.0, 6.0, 13.0, 12.0, 11.0, 4.0, 6.0, 6.0, 4.0, 9.0, 9.0, 3.0, 3.0, 3.0, 5.0, 3.0, 3.0, 3.0, 6.0, 6.0, 5.0, 5.0, 4.0, 5.0, 13.147369188713604, 11.923252826361205, 11.122596426647684, 9.316540062129633, 9.114949560781552, 6.286696779187896, 5.88774796365471, 5.081107746755661, 5.081018576400941, 4.67707978781757, 4.627817220032189, 0.040340488615097564, 0.04033986796916272, 0.040341225790473244, 0.04033998449860355, 0.040441000324309584, 0.04121746385428579, 0.04034426062243221, 0.040454563337922536, 0.04342678352168421, 0.04036229482002478, 0.041348592407451146, 0.040368002229376664, 0.04091916875175452, 0.040475923691076145, 0.04045162476941469, 0.040354074427948944, 0.04055671912554972, 0.04038049621203245, 0.04313593110387368, 4.57712688925497, 3.928484037541229, 3.603734232011117, 3.4418439312592906, 3.4418396780326246, 3.2794937503742294, 3.27949215541423, 3.43602179560721, 2.626026144661527, 3.3956964219358885, 0.033819706281471754, 0.033167963674841185, 0.032530550786957525, 0.03249930369300592, 0.03254427201185041, 0.032478226545822955, 0.03249655820196484, 0.032505951436441985, 0.03247316545530321, 0.03416167567389816, 0.03263414219287273, 0.03256145313695088, 0.04493481222387137, 0.03491771163498546, 0.03247312599665739, 0.03247293285696993, 0.03250294219550513, 0.03247543328905272, 0.03276910114544786, 0.03247465449999039, 10.294674572543789, 8.629003127413611, 6.6951435089474005, 4.761114135177755, 1.1639606746494708, 1.2702619600701783, 0.4038432371806322, 0.055354584174006835, 0.05535432295017343, 0.055356975376789595, 0.05535510662167366, 0.055862692661786985, 0.05536140412547295, 0.05537127436754764, 0.056666112683823176, 0.055358064479233506, 0.05591037203962664, 0.05740726900045902, 0.05549458005457364, 0.055496629656958854, 0.055513629300271546, 0.05550874240517267, 0.05647941400067086, 0.07885986639878886, 0.055357316977187127, 0.055358044385092474, 0.0559439091610083, 0.05536566006454343, 0.05537367762681501, 0.05536001762974177, 9.939373512329576, 6.503107868431736, 4.669747079419403, 7.811936047499369, 1.5433978392195185, 1.2888815826193447, 0.542734420007747, 0.049655106116972464, 0.049653909958305646, 0.04965722179826263, 0.04965525417569995, 0.05271463452090075, 0.04965688671798463, 0.05014871832929001, 0.049666701453104194, 0.049889303853600894, 0.04966213890652817, 0.069829389614162, 0.0497633799058719, 0.049666113114476544, 0.05009441584284244, 0.050089358468414016, 0.051536577981662154, 0.04979752302768722, 0.049678542255020976, 0.04967604473806518, 0.04975213133886508, 0.04969625475436737, 0.04993978408710988, 0.049750802706599984, 6.690745405466469, 4.3433046741540755, 0.04302452375437103, 0.04302407452603146, 0.04302543937901221, 0.0430240287447994, 0.04313133136876424, 0.04358203043042122, 0.04313677933537924, 0.04435655445306518, 0.043356108634191995, 0.04337696770804879, 0.044381199062547845, 0.04302915338146298, 0.0449702089489085, 0.04898041310977307, 0.044229520118082996, 0.04303466429727206, 0.04303309915140105, 0.043174231244530355, 0.04303147105633596, 0.04424137459585922, 0.06034812765879023, 0.054439458782929856, 0.04458279671791882, 0.044694537260066364, 0.043220035367205194, 0.043481998438372714, 0.04332632508141073, 0.0460187765653295], \"Total\": [6.0, 10.0, 10.0, 8.0, 11.0, 4.0, 6.0, 6.0, 13.0, 12.0, 11.0, 4.0, 6.0, 6.0, 4.0, 9.0, 9.0, 3.0, 3.0, 3.0, 5.0, 3.0, 3.0, 3.0, 6.0, 6.0, 5.0, 5.0, 4.0, 5.0, 13.330973440115265, 12.121683516879367, 11.314573233538578, 9.498741621369827, 9.297041342728336, 6.473753345521658, 6.07006508747456, 5.263246209471661, 5.263651662684296, 4.8599321117169545, 5.651909358181327, 3.467866858074678, 3.467865925777903, 3.6302205403771626, 3.630218305300067, 3.7928261430839623, 3.9275009481166054, 4.1174751999538035, 4.522616919594122, 5.122133758096089, 4.767093106860894, 6.1668833607923945, 6.055889932562053, 6.675344153026066, 6.862748934813426, 6.8916675095246145, 8.798313811100092, 10.146944945444991, 10.460792140728563, 11.35003863478155, 4.767093106860894, 4.1174751999538035, 3.7928261430839623, 3.630218305300067, 3.6302205403771626, 3.467865925777903, 3.467866858074678, 5.122133758096089, 3.9275009481166054, 11.35003863478155, 4.522616919594122, 4.8599321117169545, 5.263651662684296, 5.263246209471661, 5.651909358181327, 6.055889932562053, 6.07006508747456, 6.1668833607923945, 6.473753345521658, 6.8916675095246145, 6.675344153026066, 6.862748934813426, 10.146944945444991, 8.798313811100092, 9.297041342728336, 9.498741621369827, 10.460792140728563, 11.314573233538578, 12.121683516879367, 13.330973440115265, 10.460792140728563, 8.798313811100092, 6.862748934813426, 6.1668833607923945, 3.9275009481166054, 6.055889932562053, 5.651909358181327, 3.467866858074678, 3.467865925777903, 3.6302205403771626, 3.630218305300067, 3.7928261430839623, 4.1174751999538035, 4.522616919594122, 4.8599321117169545, 4.767093106860894, 5.122133758096089, 5.263651662684296, 5.263246209471661, 6.07006508747456, 6.473753345521658, 6.675344153026066, 6.8916675095246145, 10.146944945444991, 9.297041342728336, 9.498741621369827, 11.35003863478155, 11.314573233538578, 12.121683516879367, 13.330973440115265, 10.146944945444991, 6.675344153026066, 6.055889932562053, 11.35003863478155, 5.122133758096089, 6.1668833607923945, 5.651909358181327, 3.467866858074678, 3.467865925777903, 3.6302205403771626, 3.630218305300067, 3.9275009481166054, 3.7928261430839623, 4.1174751999538035, 4.522616919594122, 4.767093106860894, 4.8599321117169545, 6.8916675095246145, 5.263246209471661, 5.263651662684296, 6.07006508747456, 6.473753345521658, 6.862748934813426, 8.798313811100092, 9.297041342728336, 9.498741621369827, 10.460792140728563, 11.314573233538578, 12.121683516879367, 13.330973440115265, 6.8916675095246145, 4.522616919594122, 3.467866858074678, 3.467865925777903, 3.6302205403771626, 3.630218305300067, 3.7928261430839623, 3.9275009481166054, 4.1174751999538035, 4.767093106860894, 4.8599321117169545, 5.122133758096089, 5.263246209471661, 5.263651662684296, 5.651909358181327, 6.473753345521658, 6.07006508747456, 6.055889932562053, 6.1668833607923945, 6.675344153026066, 6.862748934813426, 8.798313811100092, 12.121683516879367, 11.314573233538578, 9.297041342728336, 9.498741621369827, 10.146944945444991, 10.460792140728563, 11.35003863478155, 13.330973440115265], \"Category\": [\"Default\", \"Default\", \"Default\", \"Default\", \"Default\", \"Default\", \"Default\", \"Default\", \"Default\", \"Default\", \"Default\", \"Default\", \"Default\", \"Default\", \"Default\", \"Default\", \"Default\", \"Default\", \"Default\", \"Default\", \"Default\", \"Default\", \"Default\", \"Default\", \"Default\", \"Default\", \"Default\", \"Default\", \"Default\", \"Default\", \"Topic1\", \"Topic1\", \"Topic1\", \"Topic1\", \"Topic1\", \"Topic1\", \"Topic1\", \"Topic1\", \"Topic1\", \"Topic1\", \"Topic1\", \"Topic1\", \"Topic1\", \"Topic1\", \"Topic1\", \"Topic1\", \"Topic1\", \"Topic1\", \"Topic1\", \"Topic1\", \"Topic1\", \"Topic1\", \"Topic1\", \"Topic1\", \"Topic1\", \"Topic1\", \"Topic1\", \"Topic1\", \"Topic1\", \"Topic1\", \"Topic2\", \"Topic2\", \"Topic2\", \"Topic2\", \"Topic2\", \"Topic2\", \"Topic2\", \"Topic2\", \"Topic2\", \"Topic2\", \"Topic2\", \"Topic2\", \"Topic2\", \"Topic2\", \"Topic2\", \"Topic2\", \"Topic2\", \"Topic2\", \"Topic2\", \"Topic2\", \"Topic2\", \"Topic2\", \"Topic2\", \"Topic2\", \"Topic2\", \"Topic2\", \"Topic2\", \"Topic2\", \"Topic2\", \"Topic2\", \"Topic3\", \"Topic3\", \"Topic3\", \"Topic3\", \"Topic3\", \"Topic3\", \"Topic3\", \"Topic3\", \"Topic3\", \"Topic3\", \"Topic3\", \"Topic3\", \"Topic3\", \"Topic3\", \"Topic3\", \"Topic3\", \"Topic3\", \"Topic3\", \"Topic3\", \"Topic3\", \"Topic3\", \"Topic3\", \"Topic3\", \"Topic3\", \"Topic3\", \"Topic3\", \"Topic3\", \"Topic3\", \"Topic3\", \"Topic3\", \"Topic4\", \"Topic4\", \"Topic4\", \"Topic4\", \"Topic4\", \"Topic4\", \"Topic4\", \"Topic4\", \"Topic4\", \"Topic4\", \"Topic4\", \"Topic4\", \"Topic4\", \"Topic4\", \"Topic4\", \"Topic4\", \"Topic4\", \"Topic4\", \"Topic4\", \"Topic4\", \"Topic4\", \"Topic4\", \"Topic4\", \"Topic4\", \"Topic4\", \"Topic4\", \"Topic4\", \"Topic4\", \"Topic4\", \"Topic4\", \"Topic5\", \"Topic5\", \"Topic5\", \"Topic5\", \"Topic5\", \"Topic5\", \"Topic5\", \"Topic5\", \"Topic5\", \"Topic5\", \"Topic5\", \"Topic5\", \"Topic5\", \"Topic5\", \"Topic5\", \"Topic5\", \"Topic5\", \"Topic5\", \"Topic5\", \"Topic5\", \"Topic5\", \"Topic5\", \"Topic5\", \"Topic5\", \"Topic5\", \"Topic5\", \"Topic5\", \"Topic5\", \"Topic5\", \"Topic5\"], \"logprob\": [30.0, 29.0, 28.0, 27.0, 26.0, 25.0, 24.0, 23.0, 22.0, 21.0, 20.0, 19.0, 18.0, 17.0, 16.0, 15.0, 14.0, 13.0, 12.0, 11.0, 10.0, 9.0, 8.0, 7.0, 6.0, 5.0, 4.0, 3.0, 2.0, 1.0, -1.8902, -1.9879, -2.0574, -2.2346, -2.2565, -2.628, -2.6935, -2.8409, -2.8409, -2.9237, -2.9343, -7.6768, -7.6768, -7.6768, -7.6768, -7.6743, -7.6553, -7.6767, -7.674, -7.6031, -7.6762, -7.6521, -7.6761, -7.6625, -7.6734, -7.674, -7.6765, -7.6714, -7.6758, -7.6098, -2.0535, -2.2063, -2.2926, -2.3385, -2.3385, -2.3869, -2.3869, -2.3402, -2.6091, -2.352, -6.9613, -6.9807, -7.0001, -7.0011, -6.9997, -7.0017, -7.0012, -7.0009, -7.0019, -6.9512, -6.9969, -6.9992, -6.6771, -6.9293, -7.0019, -7.0019, -7.001, -7.0018, -6.9928, -7.0018, -1.21, -1.3865, -1.6402, -1.9811, -3.3898, -3.3024, -4.4483, -6.4356, -6.4356, -6.4355, -6.4356, -6.4264, -6.4355, -6.4353, -6.4122, -6.4355, -6.4256, -6.3992, -6.4331, -6.433, -6.4327, -6.4328, -6.4155, -6.0817, -6.4355, -6.4355, -6.425, -6.4354, -6.4352, -6.4355, -1.2141, -1.6383, -1.9695, -1.455, -3.0766, -3.2568, -4.1217, -6.5133, -6.5133, -6.5132, -6.5133, -6.4535, -6.5132, -6.5034, -6.513, -6.5086, -6.5131, -6.1723, -6.5111, -6.513, -6.5045, -6.5046, -6.4761, -6.5104, -6.5128, -6.5128, -6.5113, -6.5124, -6.5076, -6.5113, -0.608, -1.0401, -5.6547, -5.6547, -5.6547, -5.6547, -5.6522, -5.6418, -5.6521, -5.6242, -5.647, -5.6466, -5.6237, -5.6546, -5.6105, -5.5251, -5.6271, -5.6545, -5.6545, -5.6512, -5.6546, -5.6268, -5.3164, -5.4194, -5.6191, -5.6166, -5.6502, -5.6441, -5.6477, -5.5874], \"loglift\": [30.0, 29.0, 28.0, 27.0, 26.0, 25.0, 24.0, 23.0, 22.0, 21.0, 20.0, 19.0, 18.0, 17.0, 16.0, 15.0, 14.0, 13.0, 12.0, 11.0, 10.0, 9.0, 8.0, 7.0, 6.0, 5.0, 4.0, 3.0, 2.0, 1.0, 0.8329, 0.8303, 0.8297, 0.8274, 0.827, 0.8175, 0.8163, 0.8116, 0.8115, 0.8085, 0.6469, -3.6071, -3.6071, -3.6529, -3.6529, -3.6942, -3.7101, -3.7787, -3.8698, -3.9234, -3.9248, -4.1581, -4.1639, -4.2478, -4.2863, -4.2911, -4.5378, -4.6754, -4.7102, -4.7258, 1.698, 1.6917, 1.6875, 1.6854, 1.6854, 1.6828, 1.6828, 1.3394, 1.3361, 0.5319, -3.1571, -3.2485, -3.3477, -3.3486, -3.4185, -3.4896, -3.4913, -3.5069, -3.5564, -3.5683, -3.5822, -3.6121, -3.6811, -3.7907, -3.9184, -3.9399, -4.0354, -4.1147, -4.1746, -4.2787, 1.7556, 1.7522, 1.7469, 1.5129, 0.5554, 0.2098, -0.8671, -2.3659, -2.3659, -2.4116, -2.4117, -2.4463, -2.5375, -2.6312, -2.68, -2.684, -2.746, -2.7468, -2.7806, -2.9232, -2.9873, -3.018, -3.0326, -3.0856, -3.352, -3.3735, -3.541, -3.5483, -3.617, -3.7124, 1.7819, 1.7765, 1.5427, 1.429, 0.603, 0.2372, -0.5405, -2.4436, -2.4436, -2.4893, -2.4894, -2.5083, -2.5331, -2.6054, -2.7089, -2.7571, -2.7809, -2.7894, -2.8586, -2.8607, -2.9946, -3.0591, -3.089, -3.3718, -3.4293, -3.4508, -3.5457, -3.6253, -3.6893, -3.7882, 2.7749, 2.764, -1.585, -1.5851, -1.6308, -1.6308, -1.6721, -1.6966, -1.7541, -1.8728, -1.9149, -1.9669, -1.9712, -2.0022, -2.0293, -2.0796, -2.1173, -2.1423, -2.1605, -2.2365, -2.2675, -2.4882, -2.4981, -2.5323, -2.5356, -2.5546, -2.6541, -2.6786, -2.7637, -2.8643]}, \"token.table\": {\"Topic\": [3, 4, 1, 3, 3, 2, 2, 2, 2, 4, 3, 4, 1, 1, 2, 3, 2, 4, 1, 4, 4, 2, 1, 1, 5, 2, 2, 2, 3, 1, 1, 1, 5, 1, 1, 4], \"Freq\": [0.16512849657703935, 0.8256424828851967, 0.9884572757515999, 1.0229232774859038, 1.019999429746049, 1.0546225556090436, 0.826396073360412, 0.8263965821614757, 0.26431628089852227, 0.7048434157293927, 0.8107823202541552, 0.16215646405083103, 0.9499108832460539, 0.9268193704276074, 0.7638445005184837, 0.25461483350616126, 0.5856934124881401, 0.3904622749920934, 0.8846567917375273, 0.17693135834750545, 1.0486350725193339, 1.048857215061292, 0.9899615002561383, 0.9680499062252028, 1.0157193437329448, 0.8650853476485102, 0.8650851150801007, 0.9714691177848208, 0.9559505499650938, 0.9474939269589372, 0.9499840594578443, 0.972197516685285, 0.8844436907026334, 0.9751725977399889, 1.0288209557383223, 0.9855183066198703], \"Term\": [\"april\", \"april\", \"arena\", \"canadian\", \"day\", \"doesnt\", \"fight\", \"fly\", \"get\", \"get\", \"government\", \"government\", \"gut\", \"interested\", \"life\", \"life\", \"like\", \"like\", \"march\", \"march\", \"new\", \"nhl\", \"olivia\", \"olivia rodrigo\", \"one\", \"personally\", \"personally fly\", \"point\", \"police\", \"rodrigo\", \"scotiabank\", \"selling\", \"star\", \"ticket\", \"two\", \"year\"]}, \"R\": 30, \"lambda.step\": 0.01, \"plot.opts\": {\"xlab\": \"PC1\", \"ylab\": \"PC2\"}, \"topic.order\": [5, 1, 3, 2, 4]};\n",
              "\n",
              "function LDAvis_load_lib(url, callback){\n",
              "  var s = document.createElement('script');\n",
              "  s.src = url;\n",
              "  s.async = true;\n",
              "  s.onreadystatechange = s.onload = callback;\n",
              "  s.onerror = function(){console.warn(\"failed to load library \" + url);};\n",
              "  document.getElementsByTagName(\"head\")[0].appendChild(s);\n",
              "}\n",
              "\n",
              "if(typeof(LDAvis) !== \"undefined\"){\n",
              "   // already loaded: just create the visualization\n",
              "   !function(LDAvis){\n",
              "       new LDAvis(\"#\" + \"ldavis_el18041371003376755365154771503\", ldavis_el18041371003376755365154771503_data);\n",
              "   }(LDAvis);\n",
              "}else if(typeof define === \"function\" && define.amd){\n",
              "   // require.js is available: use it to load d3/LDAvis\n",
              "   require.config({paths: {d3: \"https://d3js.org/d3.v5\"}});\n",
              "   require([\"d3\"], function(d3){\n",
              "      window.d3 = d3;\n",
              "      LDAvis_load_lib(\"https://cdn.jsdelivr.net/gh/bmabey/pyLDAvis@3.4.0/pyLDAvis/js/ldavis.v3.0.0.js\", function(){\n",
              "        new LDAvis(\"#\" + \"ldavis_el18041371003376755365154771503\", ldavis_el18041371003376755365154771503_data);\n",
              "      });\n",
              "    });\n",
              "}else{\n",
              "    // require.js not available: dynamically load d3 & LDAvis\n",
              "    LDAvis_load_lib(\"https://d3js.org/d3.v5.js\", function(){\n",
              "         LDAvis_load_lib(\"https://cdn.jsdelivr.net/gh/bmabey/pyLDAvis@3.4.0/pyLDAvis/js/ldavis.v3.0.0.js\", function(){\n",
              "                 new LDAvis(\"#\" + \"ldavis_el18041371003376755365154771503\", ldavis_el18041371003376755365154771503_data);\n",
              "            })\n",
              "         });\n",
              "}\n",
              "</script>"
            ]
          },
          "metadata": {},
          "execution_count": 88
        }
      ]
    }
  ]
}